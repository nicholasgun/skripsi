{
 "cells": [
  {
   "cell_type": "code",
   "execution_count": 1,
   "metadata": {},
   "outputs": [],
   "source": [
    "import json"
   ]
  },
  {
   "cell_type": "code",
   "execution_count": 2,
   "metadata": {},
   "outputs": [],
   "source": [
    "# load the json file\n",
    "path = 'Data/Data/issues_pr_links.json'\n",
    "\n",
    "with open(path, 'r') as file:\n",
    "    data = json.load(file)"
   ]
  },
  {
   "cell_type": "code",
   "execution_count": 5,
   "metadata": {},
   "outputs": [],
   "source": [
    "pr_url = data['pr_url'] "
   ]
  },
  {
   "cell_type": "code",
   "execution_count": 7,
   "metadata": {},
   "outputs": [
    {
     "data": {
      "text/plain": [
       "['https://github.com/kubernetes/kubernetes/pull/129390',\n",
       " 'https://github.com/kubernetes/kubernetes/pull/128985',\n",
       " 'https://github.com/kubernetes/kubernetes/pull/128818',\n",
       " 'https://github.com/kubernetes/kubernetes/pull/128811',\n",
       " 'https://github.com/kubernetes/kubernetes/pull/128683']"
      ]
     },
     "execution_count": 7,
     "metadata": {},
     "output_type": "execute_result"
    }
   ],
   "source": [
    "pr_url[:5]"
   ]
  },
  {
   "cell_type": "code",
   "execution_count": 8,
   "metadata": {},
   "outputs": [],
   "source": [
    "# load the json file\n",
    "path_2 = 'Data/Data/github_filtered_pull_requests.json'\n",
    "\n",
    "with open(path_2, 'r') as file:\n",
    "    data_2 = json.load(file)"
   ]
  },
  {
   "cell_type": "code",
   "execution_count": 10,
   "metadata": {},
   "outputs": [],
   "source": [
    "# filter html_url = pr_url\n",
    "filtered_pr = [pr for pr in data_2 if pr['html_url'] in pr_url]"
   ]
  },
  {
   "cell_type": "code",
   "execution_count": 19,
   "metadata": {},
   "outputs": [],
   "source": [
    "# get the labels\n",
    "labels = [pr['labels'] for pr in filtered_pr]"
   ]
  },
  {
   "cell_type": "code",
   "execution_count": 20,
   "metadata": {},
   "outputs": [],
   "source": [
    "# filter where the name starts with area/\n",
    "labels = [[label for label in pr if label['name'].startswith('area/')] for pr in labels]\n",
    "\n",
    "# count the frequency of each label\n",
    "from collections import Counter\n",
    "label_freq = Counter([label['name'] for pr in labels for label in pr])\n"
   ]
  },
  {
   "cell_type": "code",
   "execution_count": 21,
   "metadata": {},
   "outputs": [
    {
     "data": {
      "text/plain": [
       "Counter({'area/test': 173,\n",
       "         'area/kubelet': 76,\n",
       "         'area/kubectl': 47,\n",
       "         'area/apiserver': 47,\n",
       "         'area/cloudprovider': 25,\n",
       "         'area/e2e-test-framework': 24,\n",
       "         'area/code-generation': 21,\n",
       "         'area/dependency': 17,\n",
       "         'area/kubeadm': 11,\n",
       "         'area/provider/gcp': 10,\n",
       "         'area/release-eng': 9,\n",
       "         'area/conformance': 9,\n",
       "         'area/provider/azure': 8,\n",
       "         'area/ipvs': 6,\n",
       "         'area/kube-proxy': 5,\n",
       "         'area/logging': 3,\n",
       "         'area/custom-resources': 3,\n",
       "         'area/ipv6': 3,\n",
       "         'area/stable-metrics': 2,\n",
       "         'area/provider/openstack': 2,\n",
       "         'area/hw-accelerators': 2,\n",
       "         'area/network-policy': 1,\n",
       "         'area/code-organization': 1,\n",
       "         'area/admission-control': 1,\n",
       "         'area/test-infra': 1,\n",
       "         'area/kubelet-api': 1,\n",
       "         'area/client-libraries': 1})"
      ]
     },
     "execution_count": 21,
     "metadata": {},
     "output_type": "execute_result"
    }
   ],
   "source": [
    "label_freq"
   ]
  },
  {
   "cell_type": "code",
   "execution_count": 25,
   "metadata": {},
   "outputs": [
    {
     "name": "stdout",
     "output_type": "stream",
     "text": [
      "number of labels: 27\n",
      "number of pull requests: 513\n"
     ]
    }
   ],
   "source": [
    "print('number of labels:', len(label_freq))\n",
    "print('number of pull requests:', len(labels))"
   ]
  },
  {
   "cell_type": "code",
   "execution_count": 34,
   "metadata": {},
   "outputs": [
    {
     "data": {
      "text/plain": [
       "6672"
      ]
     },
     "execution_count": 34,
     "metadata": {},
     "output_type": "execute_result"
    }
   ],
   "source": [
    "len(data_2)"
   ]
  },
  {
   "cell_type": "code",
   "execution_count": 35,
   "metadata": {},
   "outputs": [],
   "source": [
    "# filter html_url != pr_url\n",
    "filtered_pr_2 = [pr for pr in data_2 if pr['html_url'] not in pr_url]\n"
   ]
  },
  {
   "cell_type": "code",
   "execution_count": 36,
   "metadata": {},
   "outputs": [
    {
     "data": {
      "text/plain": [
       "6159"
      ]
     },
     "execution_count": 36,
     "metadata": {},
     "output_type": "execute_result"
    }
   ],
   "source": [
    "len(filtered_pr_2)"
   ]
  },
  {
   "cell_type": "code",
   "execution_count": 38,
   "metadata": {},
   "outputs": [],
   "source": [
    "# export the filtered pull requests\n",
    "path_3 = 'Data/Data/github_filtered_pull_requests_without_issues.json'\n",
    "\n",
    "with open(path_3, 'w') as file:\n",
    "    json.dump(filtered_pr_2, file)"
   ]
  },
  {
   "cell_type": "code",
   "execution_count": null,
   "metadata": {},
   "outputs": [],
   "source": []
  }
 ],
 "metadata": {
  "kernelspec": {
   "display_name": "Python 3",
   "language": "python",
   "name": "python3"
  },
  "language_info": {
   "codemirror_mode": {
    "name": "ipython",
    "version": 3
   },
   "file_extension": ".py",
   "mimetype": "text/x-python",
   "name": "python",
   "nbconvert_exporter": "python",
   "pygments_lexer": "ipython3",
   "version": "3.12.4"
  }
 },
 "nbformat": 4,
 "nbformat_minor": 2
}
