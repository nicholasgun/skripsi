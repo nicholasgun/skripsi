{
 "cells": [
  {
   "cell_type": "code",
   "execution_count": 1,
   "metadata": {},
   "outputs": [],
   "source": [
    "# import library\n",
    "from bs4 import BeautifulSoup\n",
    "import requests\n",
    "import json"
   ]
  },
  {
   "cell_type": "code",
   "execution_count": 4,
   "metadata": {},
   "outputs": [],
   "source": [
    "# read prs\n",
    "pr_path = 'Data/Data/merged feature pr with area labels with issues.json'\n",
    "\n",
    "# read json file\n",
    "with open(pr_path, 'r') as f:\n",
    "    prs = json.load(f)"
   ]
  },
  {
   "cell_type": "code",
   "execution_count": 53,
   "metadata": {},
   "outputs": [],
   "source": [
    "# get all the html urls\n",
    "html_urls = []\n",
    "\n",
    "for pr in prs:\n",
    "    html_url = pr['html_url']\n",
    "    html_urls.append(html_url)"
   ]
  },
  {
   "cell_type": "code",
   "execution_count": 57,
   "metadata": {},
   "outputs": [],
   "source": [
    "from selenium import webdriver\n",
    "from selenium.webdriver.common.by import By\n",
    "from selenium.webdriver.support.ui import WebDriverWait\n",
    "from selenium.webdriver.support import expected_conditions as EC\n",
    "from bs4 import BeautifulSoup\n",
    "\n",
    "# Initialize the WebDriver (ensure you have the appropriate driver installed, e.g., chromedriver)\n",
    "driver = webdriver.Chrome()\n",
    "pr_issues_links = []\n",
    "\n",
    "# Loop through the URLs, limited to the first 3 for this example\n",
    "for url in html_urls:\n",
    "    # Load the webpage\n",
    "    driver.get(url)\n",
    "    \n",
    "    try:\n",
    "        # Wait for the element to appear (max wait time: 10 seconds)\n",
    "        WebDriverWait(driver, 10).until(\n",
    "            EC.presence_of_all_elements_located((By.CSS_SELECTOR, 'a.Truncate-text.Link--primary.markdown-title.text-bold'))\n",
    "        )\n",
    "    except Exception as e:\n",
    "        print(f\"Element not found within the wait time for URL: {url}\")\n",
    "        continue\n",
    "\n",
    "    # Get the page source\n",
    "    page_source = driver.page_source\n",
    "\n",
    "    # Parse with BeautifulSoup\n",
    "    soup = BeautifulSoup(page_source, 'html.parser')\n",
    "\n",
    "    # Get <a> elements with the specified class\n",
    "    a_tags = soup.find_all('a', class_='Truncate-text Link--primary markdown-title text-bold')\n",
    "\n",
    "    # Get the href and associate with PR URL\n",
    "    for a in a_tags:\n",
    "        pr_issues_links.append({'issue_url': a['href'], 'pr_url': url})\n",
    "\n",
    "# Close the WebDriver\n",
    "driver.quit()"
   ]
  },
  {
   "cell_type": "code",
   "execution_count": 61,
   "metadata": {},
   "outputs": [
    {
     "data": {
      "text/plain": [
       "750"
      ]
     },
     "execution_count": 61,
     "metadata": {},
     "output_type": "execute_result"
    }
   ],
   "source": [
    "len(pr_issues_links)"
   ]
  },
  {
   "cell_type": "code",
   "execution_count": 60,
   "metadata": {},
   "outputs": [],
   "source": [
    "# export the pr_issues_links\n",
    "pr_issues_links_path = 'Data/Data/pr_issues_links_new.json'\n",
    "\n",
    "with open(pr_issues_links_path, 'w') as f:\n",
    "    json.dump(pr_issues_links, f)"
   ]
  }
 ],
 "metadata": {
  "kernelspec": {
   "display_name": "Python 3",
   "language": "python",
   "name": "python3"
  },
  "language_info": {
   "codemirror_mode": {
    "name": "ipython",
    "version": 3
   },
   "file_extension": ".py",
   "mimetype": "text/x-python",
   "name": "python",
   "nbconvert_exporter": "python",
   "pygments_lexer": "ipython3",
   "version": "3.12.4"
  }
 },
 "nbformat": 4,
 "nbformat_minor": 2
}
