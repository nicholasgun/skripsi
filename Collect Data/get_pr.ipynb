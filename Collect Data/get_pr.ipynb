{
 "cells": [
  {
   "cell_type": "code",
   "execution_count": 2,
   "metadata": {},
   "outputs": [],
   "source": [
    "# import library\n",
    "from bs4 import BeautifulSoup\n",
    "import requests\n",
    "import json"
   ]
  },
  {
   "cell_type": "code",
   "execution_count": 3,
   "metadata": {},
   "outputs": [],
   "source": [
    "# read issues\n",
    "issues_path = 'Data/Data/github_filtered_issues.json'\n",
    "\n",
    "# read json file\n",
    "with open(issues_path, 'r') as f:\n",
    "    issues = json.load(f)"
   ]
  },
  {
   "cell_type": "code",
   "execution_count": 5,
   "metadata": {},
   "outputs": [],
   "source": [
    "# get all the html urls\n",
    "html_urls = []\n",
    "\n",
    "for issue in issues:\n",
    "    html_url = issue['html_url']\n",
    "    html_urls.append(html_url)"
   ]
  },
  {
   "cell_type": "code",
   "execution_count": 27,
   "metadata": {},
   "outputs": [
    {
     "name": "stdout",
     "output_type": "stream",
     "text": [
      "https://github.com/kubernetes/kubernetes/issues/128984\n"
     ]
    }
   ],
   "source": [
    "print(html_urls[3])"
   ]
  },
  {
   "cell_type": "code",
   "execution_count": 55,
   "metadata": {},
   "outputs": [],
   "source": [
    "from selenium import webdriver\n",
    "from bs4 import BeautifulSoup\n",
    "\n",
    "# Initialize the WebDriver (ensure you have the appropriate driver installed, e.g., chromedriver)\n",
    "driver = webdriver.Chrome()\n",
    "\n",
    "issues_pr_links = {\"issue_url\": [], \"pr_url\": []}\n",
    "\n",
    "# Loop through the URLs, limited to the first 5 for this example\n",
    "for url in html_urls:\n",
    "    # Load the webpage\n",
    "    driver.get(url)\n",
    "\n",
    "    # Get the page source\n",
    "    page_source = driver.page_source\n",
    "\n",
    "    # Parse with BeautifulSoup\n",
    "    soup = BeautifulSoup(page_source, 'html.parser')\n",
    "    pull_request = soup.find_all('div', class_='Box-sc-g0xbh4-0 cSuAyo')\n",
    "\n",
    "    if pull_request:\n",
    "        issues_pr_links[\"issue_url\"].append(url)\n",
    "        issues_pr_links[\"pr_url\"].append(pull_request[0].find('a')['href'])\n",
    "\n",
    "\n",
    "driver.quit()"
   ]
  },
  {
   "cell_type": "code",
   "execution_count": 54,
   "metadata": {},
   "outputs": [
    {
     "data": {
      "text/plain": [
       "{'issue_url': ['https://github.com/kubernetes/kubernetes/issues/129389',\n",
       "  'https://github.com/kubernetes/kubernetes/issues/128984'],\n",
       " 'pr_url': ['https://github.com/kubernetes/kubernetes/pull/129390',\n",
       "  'https://github.com/kubernetes/kubernetes/pull/128985']}"
      ]
     },
     "execution_count": 54,
     "metadata": {},
     "output_type": "execute_result"
    }
   ],
   "source": [
    "issues_pr_links"
   ]
  },
  {
   "cell_type": "code",
   "execution_count": 58,
   "metadata": {},
   "outputs": [
    {
     "name": "stdout",
     "output_type": "stream",
     "text": [
      "994\n"
     ]
    }
   ],
   "source": [
    "print(len(issues_pr_links['pr_url']))"
   ]
  },
  {
   "cell_type": "code",
   "execution_count": null,
   "metadata": {},
   "outputs": [],
   "source": [
    "# # save issues_pr_links\n",
    "# issues_pr_links_path = 'Data/Data/issues_pr_links.json'\n",
    "\n",
    "# with open(issues_pr_links_path, 'w') as f:\n",
    "#     json.dump(issues_pr_links, f)"
   ]
  },
  {
   "cell_type": "code",
   "execution_count": 60,
   "metadata": {},
   "outputs": [],
   "source": [
    "with open(issues_pr_links_path, 'r') as f:\n",
    "    issues_pr_links = json.load(f)"
   ]
  },
  {
   "cell_type": "code",
   "execution_count": 61,
   "metadata": {},
   "outputs": [
    {
     "name": "stdout",
     "output_type": "stream",
     "text": [
      "994\n"
     ]
    }
   ],
   "source": [
    "print(len(issues_pr_links[\"issue_url\"]))"
   ]
  },
  {
   "cell_type": "markdown",
   "metadata": {},
   "source": []
  }
 ],
 "metadata": {
  "kernelspec": {
   "display_name": "Python 3",
   "language": "python",
   "name": "python3"
  },
  "language_info": {
   "codemirror_mode": {
    "name": "ipython",
    "version": 3
   },
   "file_extension": ".py",
   "mimetype": "text/x-python",
   "name": "python",
   "nbconvert_exporter": "python",
   "pygments_lexer": "ipython3",
   "version": "3.12.4"
  }
 },
 "nbformat": 4,
 "nbformat_minor": 2
}
