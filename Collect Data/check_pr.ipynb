{
 "cells": [
  {
   "cell_type": "code",
   "execution_count": 1,
   "metadata": {},
   "outputs": [],
   "source": [
    "# import library\n",
    "import json"
   ]
  },
  {
   "cell_type": "code",
   "execution_count": 7,
   "metadata": {},
   "outputs": [],
   "source": [
    "# load json file\n",
    "path = 'Data/Data/merged feature pr with issues.json'\n",
    "\n",
    "with open(path) as f:\n",
    "    datas = json.load(f)"
   ]
  },
  {
   "cell_type": "code",
   "execution_count": 27,
   "metadata": {},
   "outputs": [],
   "source": [
    "labels_all = [data['labels'] for data in datas]"
   ]
  },
  {
   "cell_type": "code",
   "execution_count": 28,
   "metadata": {},
   "outputs": [
    {
     "name": "stdout",
     "output_type": "stream",
     "text": [
      "1027\n"
     ]
    }
   ],
   "source": [
    "print(len(labels_all))"
   ]
  },
  {
   "cell_type": "code",
   "execution_count": 29,
   "metadata": {},
   "outputs": [
    {
     "name": "stdout",
     "output_type": "stream",
     "text": [
      "[{'id': 114528068, 'node_id': 'MDU6TGFiZWwxMTQ1MjgwNjg=', 'url': 'https://api.github.com/repos/kubernetes/kubernetes/labels/priority/critical-urgent', 'name': 'priority/critical-urgent', 'color': 'e11d21', 'default': False, 'description': \"Highest priority. Must be actively worked on as someone's top priority right now.\"}, {'id': 116712108, 'node_id': 'MDU6TGFiZWwxMTY3MTIxMDg=', 'url': 'https://api.github.com/repos/kubernetes/kubernetes/labels/sig/network', 'name': 'sig/network', 'color': 'd2b48c', 'default': False, 'description': 'Categorizes an issue or PR as relevant to SIG Network.'}, {'id': 148225179, 'node_id': 'MDU6TGFiZWwxNDgyMjUxNzk=', 'url': 'https://api.github.com/repos/kubernetes/kubernetes/labels/lgtm', 'name': 'lgtm', 'color': '15dd18', 'default': False, 'description': '\"Looks good to me\", indicates that a PR is ready to be merged.'}, {'id': 200149833, 'node_id': 'MDU6TGFiZWwyMDAxNDk4MzM=', 'url': 'https://api.github.com/repos/kubernetes/kubernetes/labels/release-note', 'name': 'release-note', 'color': 'c2e0c6', 'default': False, 'description': 'Denotes a PR that will be considered when it comes time to generate release notes.'}, {'id': 253450895, 'node_id': 'MDU6TGFiZWwyNTM0NTA4OTU=', 'url': 'https://api.github.com/repos/kubernetes/kubernetes/labels/size/S', 'name': 'size/S', 'color': '77bb00', 'default': False, 'description': 'Denotes a PR that changes 10-29 lines, ignoring generated files.'}, {'id': 267761362, 'node_id': 'MDU6TGFiZWwyNjc3NjEzNjI=', 'url': 'https://api.github.com/repos/kubernetes/kubernetes/labels/kind/feature', 'name': 'kind/feature', 'color': 'c7def8', 'default': False, 'description': 'Categorizes issue or PR as related to a new feature.'}, {'id': 414883982, 'node_id': 'MDU6TGFiZWw0MTQ4ODM5ODI=', 'url': 'https://api.github.com/repos/kubernetes/kubernetes/labels/approved', 'name': 'approved', 'color': '0ffa16', 'default': False, 'description': 'Indicates a PR has been approved by an approver from all required OWNERS files.'}, {'id': 477397086, 'node_id': 'MDU6TGFiZWw0NzczOTcwODY=', 'url': 'https://api.github.com/repos/kubernetes/kubernetes/labels/cncf-cla:%20yes', 'name': 'cncf-cla: yes', 'color': 'bfe5bf', 'default': False, 'description': \"Indicates the PR's author has signed the CNCF CLA.\"}]\n"
     ]
    }
   ],
   "source": [
    "print(labels_all[0])"
   ]
  },
  {
   "cell_type": "code",
   "execution_count": 33,
   "metadata": {},
   "outputs": [],
   "source": [
    "# get the labels name\n",
    "labels_name = []\n",
    "for labels in labels_all:\n",
    "    for label in labels:\n",
    "        labels_name.append(label['name'])\n"
   ]
  },
  {
   "cell_type": "code",
   "execution_count": 35,
   "metadata": {},
   "outputs": [],
   "source": [
    "# filter labels starts with area/*\n",
    "area_labels = [label for label in labels_name if label.startswith('area/')]"
   ]
  },
  {
   "cell_type": "code",
   "execution_count": 37,
   "metadata": {},
   "outputs": [],
   "source": [
    "# get the frequency of each area label\n",
    "from collections import Counter\n",
    "area_labels_freq = Counter(area_labels)"
   ]
  },
  {
   "cell_type": "code",
   "execution_count": 38,
   "metadata": {},
   "outputs": [
    {
     "name": "stdout",
     "output_type": "stream",
     "text": [
      "area/test 348\n",
      "area/kubelet 146\n",
      "area/apiserver 141\n",
      "area/kubectl 138\n",
      "area/kubeadm 87\n",
      "area/code-generation 65\n",
      "area/cloudprovider 57\n",
      "area/dependency 53\n",
      "area/e2e-test-framework 52\n",
      "area/release-eng 25\n",
      "area/conformance 20\n",
      "area/provider/gcp 19\n",
      "area/provider/azure 12\n",
      "area/kube-proxy 12\n",
      "area/ipvs 10\n",
      "area/network-policy 7\n",
      "area/kubelet-api 5\n",
      "area/custom-resources 5\n",
      "area/admission-control 5\n",
      "area/stable-metrics 4\n",
      "area/ipv6 3\n",
      "area/provider/openstack 3\n",
      "area/logging 3\n",
      "area/hw-accelerators 2\n",
      "area/client-libraries 2\n",
      "area/code-organization 2\n",
      "area/etcd 1\n",
      "area/security 1\n",
      "area/test-infra 1\n",
      "area/batch 1\n",
      "area/workload-api/job 1\n"
     ]
    }
   ],
   "source": [
    "# sort the area labels by frequency\n",
    "area_labels_freq_sorted = dict(sorted(area_labels_freq.items(), key=lambda item: item[1], reverse=True))\n",
    "\n",
    "# print the area labels\n",
    "for key, value in area_labels_freq_sorted.items():\n",
    "    print(key, value)"
   ]
  },
  {
   "cell_type": "code",
   "execution_count": 41,
   "metadata": {},
   "outputs": [
    {
     "name": "stdout",
     "output_type": "stream",
     "text": [
      "Number of unique area labels: 31\n",
      "Number of all area labels: 1231\n"
     ]
    }
   ],
   "source": [
    "# print the number of unique area labels\n",
    "print(f'Number of unique area labels: {len(area_labels_freq_sorted)}')\n",
    "\n",
    "# print the number of all area labels\n",
    "print(f'Number of all area labels: {len(area_labels)}')"
   ]
  },
  {
   "cell_type": "markdown",
   "metadata": {},
   "source": [
    "## Filter the PR"
   ]
  },
  {
   "cell_type": "code",
   "execution_count": 44,
   "metadata": {},
   "outputs": [
    {
     "name": "stdout",
     "output_type": "stream",
     "text": [
      "dict_keys(['url', 'repository_url', 'labels_url', 'comments_url', 'events_url', 'html_url', 'id', 'node_id', 'number', 'title', 'user', 'labels', 'state', 'locked', 'assignee', 'assignees', 'milestone', 'comments', 'created_at', 'updated_at', 'closed_at', 'author_association', 'sub_issues_summary', 'active_lock_reason', 'draft', 'pull_request', 'body', 'reactions', 'timeline_url', 'performed_via_github_app', 'state_reason', 'score'])\n"
     ]
    }
   ],
   "source": [
    "print(datas[0].keys())"
   ]
  },
  {
   "cell_type": "code",
   "execution_count": 45,
   "metadata": {},
   "outputs": [
    {
     "name": "stdout",
     "output_type": "stream",
     "text": [
      "Number of PRs with area labels: 714\n"
     ]
    }
   ],
   "source": [
    "# filter the PRs with area labels\n",
    "pr_with_area_labels = []\n",
    "for data in datas:\n",
    "    for label in data['labels']:\n",
    "        if label['name'].startswith('area/'):\n",
    "            pr_with_area_labels.append(data)\n",
    "            break\n",
    "\n",
    "# print the number of PRs with area labels\n",
    "print(f'Number of PRs with area labels: {len(pr_with_area_labels)}')"
   ]
  },
  {
   "cell_type": "code",
   "execution_count": 47,
   "metadata": {},
   "outputs": [],
   "source": [
    "# export the PRs with area labels\n",
    "path = 'Data/Data/merged feature pr with area labels with issues.json'\n",
    "\n",
    "with open(path, 'w') as f:\n",
    "    json.dump(pr_with_area_labels, f, indent=4)"
   ]
  },
  {
   "cell_type": "code",
   "execution_count": null,
   "metadata": {},
   "outputs": [],
   "source": []
  }
 ],
 "metadata": {
  "kernelspec": {
   "display_name": "Python 3",
   "language": "python",
   "name": "python3"
  },
  "language_info": {
   "codemirror_mode": {
    "name": "ipython",
    "version": 3
   },
   "file_extension": ".py",
   "mimetype": "text/x-python",
   "name": "python",
   "nbconvert_exporter": "python",
   "pygments_lexer": "ipython3",
   "version": "3.12.4"
  }
 },
 "nbformat": 4,
 "nbformat_minor": 2
}
