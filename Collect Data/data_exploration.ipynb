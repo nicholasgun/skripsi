{
 "cells": [
  {
   "cell_type": "code",
   "execution_count": null,
   "metadata": {},
   "outputs": [],
   "source": [
    "# read json file\n",
    "import json\n",
    "import pandas as pd\n",
    "\n",
    "file_path = 'Data/Data/github_filtered_issues.json'"
   ]
  },
  {
   "cell_type": "code",
   "execution_count": 2,
   "metadata": {},
   "outputs": [],
   "source": [
    "# read json file\n",
    "with open(file_path, 'r') as f:\n",
    "    data = json.load(f)"
   ]
  },
  {
   "cell_type": "code",
   "execution_count": 12,
   "metadata": {},
   "outputs": [
    {
     "name": "stdout",
     "output_type": "stream",
     "text": [
      "[{'id': 173493835, 'node_id': 'MDU6TGFiZWwxNzM0OTM4MzU=', 'url': 'https://api.github.com/repos/kubernetes/kubernetes/labels/sig/api-machinery', 'name': 'sig/api-machinery', 'color': 'd2b48c', 'default': False, 'description': 'Categorizes an issue or PR as relevant to SIG API Machinery.'}, {'id': 267761362, 'node_id': 'MDU6TGFiZWwyNjc3NjEzNjI=', 'url': 'https://api.github.com/repos/kubernetes/kubernetes/labels/kind/feature', 'name': 'kind/feature', 'color': 'c7def8', 'default': False, 'description': 'Categorizes issue or PR as related to a new feature.'}, {'id': 2389815605, 'node_id': 'MDU6TGFiZWwyMzg5ODE1NjA1', 'url': 'https://api.github.com/repos/kubernetes/kubernetes/labels/needs-triage', 'name': 'needs-triage', 'color': 'ededed', 'default': False, 'description': 'Indicates an issue or PR lacks a `triage/foo` label and requires one.'}]\n"
     ]
    }
   ],
   "source": [
    "print(data[0][\"labels\"])"
   ]
  },
  {
   "cell_type": "code",
   "execution_count": 6,
   "metadata": {},
   "outputs": [],
   "source": [
    "df = pd.DataFrame(data)"
   ]
  },
  {
   "cell_type": "code",
   "execution_count": 15,
   "metadata": {},
   "outputs": [
    {
     "name": "stdout",
     "output_type": "stream",
     "text": [
      "sig/api-machinery\n",
      "kind/feature\n",
      "needs-triage\n"
     ]
    }
   ],
   "source": [
    "for label in data[0][\"labels\"]:\n",
    "    print(label[\"name\"])"
   ]
  },
  {
   "cell_type": "code",
   "execution_count": 16,
   "metadata": {},
   "outputs": [],
   "source": [
    "# get all the labels\n",
    "labels = []\n",
    "for issue in data:\n",
    "    for label in issue[\"labels\"]:\n",
    "        labels.append(label[\"name\"])"
   ]
  },
  {
   "cell_type": "code",
   "execution_count": 18,
   "metadata": {},
   "outputs": [
    {
     "name": "stdout",
     "output_type": "stream",
     "text": [
      "18243\n",
      "148\n",
      "kind/feature: 5203\n",
      "lifecycle/rotten: 1977\n",
      "needs-triage: 1028\n",
      "sig/node: 1013\n",
      "sig/scheduling: 773\n",
      "sig/api-machinery: 671\n",
      "triage/accepted: 603\n",
      "sig/network: 499\n",
      "sig/storage: 477\n",
      "sig/cli: 435\n"
     ]
    }
   ],
   "source": [
    "# check the number of labels\n",
    "print(len(labels))\n",
    "\n",
    "# get the unique labels\n",
    "unique_labels = list(set(labels))\n",
    "\n",
    "# check the number of unique labels\n",
    "print(len(unique_labels))\n",
    "\n",
    "# get the frequency of each label\n",
    "label_freq = {}\n",
    "for label in labels:\n",
    "    if label in label_freq:\n",
    "        label_freq[label] += 1\n",
    "    else:\n",
    "        label_freq[label] = 1\n",
    "\n",
    "# sort the labels by frequency\n",
    "sorted_label_freq = {k: v for k, v in sorted(label_freq.items(), key=lambda item: item[1], reverse=True)}\n",
    "\n",
    "# print the top 10 labels\n",
    "for i, (label, freq) in enumerate(sorted_label_freq.items()):\n",
    "    print(f\"{label}: {freq}\")\n",
    "    if i == 9:\n",
    "        break"
   ]
  },
  {
   "cell_type": "code",
   "execution_count": 21,
   "metadata": {},
   "outputs": [
    {
     "name": "stdout",
     "output_type": "stream",
     "text": [
      "area/kubectl: 100\n",
      "area/kubelet: 61\n",
      "area/conformance: 56\n",
      "area/test: 51\n",
      "area/code-organization: 46\n",
      "area/custom-resources: 44\n",
      "area/api: 36\n",
      "area/kube-proxy: 34\n",
      "area/federation: 34\n",
      "area/security: 33\n",
      "area/usability: 32\n",
      "area/release-eng: 27\n",
      "area/provider/aws: 27\n",
      "area/app-lifecycle: 27\n",
      "area/kubeadm: 26\n",
      "area/provider/gcp: 25\n",
      "area/provider/openstack: 25\n",
      "area/ipvs: 23\n",
      "area/apiserver: 23\n",
      "area/provider/azure: 21\n",
      "area/audit: 20\n",
      "area/ipv6: 19\n",
      "area/cloudprovider: 18\n",
      "area/workload-api/cronjob: 16\n",
      "area/stateful-apps: 16\n",
      "area/logging: 15\n",
      "area/workload-api/job: 15\n",
      "area/network-policy: 14\n",
      "area/e2e-test-framework: 14\n",
      "area/hw-accelerators: 14\n",
      "area/batch: 13\n",
      "area/dns: 13\n",
      "area/client-libraries: 13\n",
      "area/admission-control: 12\n",
      "area/kubelet-api: 11\n",
      "area/provider/vmware: 10\n",
      "area/platform/gce: 10\n",
      "area/controller-manager: 8\n",
      "area/dependency: 8\n",
      "area/test-infra: 7\n",
      "area/build-release: 7\n",
      "area/etcd: 6\n",
      "area/monitoring: 6\n",
      "area/workload-api/deployment: 6\n",
      "area/ingress: 6\n",
      "area/code-generation: 4\n",
      "area/docker: 4\n",
      "area/configmap-api: 4\n",
      "area/workload-api/daemonset: 4\n",
      "area/HA: 4\n",
      "area/admin: 4\n",
      "area/extensibility: 4\n",
      "area/images-registry: 3\n",
      "area/reliability: 3\n",
      "area/nodecontroller: 3\n",
      "area/swagger: 3\n",
      "area/secret-api: 3\n",
      "area/node-lifecycle: 2\n",
      "area/node-e2e: 2\n",
      "area/workload-api/replicaset: 2\n",
      "area/os/ubuntu: 2\n",
      "area/example: 2\n",
      "area/downward-api: 2\n",
      "area/introspection: 2\n",
      "area/provider/digitalocean: 1\n",
      "area/isolation: 1\n",
      "area/ui: 1\n",
      "area/example/cassandra: 1\n",
      "area/cadvisor: 1\n",
      "area/teardown: 1\n",
      "area/declarative-configuration: 1\n",
      "area/upgrade: 1\n",
      "area/ecosystem: 1\n"
     ]
    }
   ],
   "source": [
    "# get the label that starts with \"area/*\"\n",
    "area_labels = [label for label in unique_labels if label.startswith(\"area/\")]\n",
    "\n",
    "# get the frequency of each area label\n",
    "area_label_freq = {}\n",
    "for label in labels:\n",
    "    if label in area_labels:\n",
    "        if label in area_label_freq:\n",
    "            area_label_freq[label] += 1\n",
    "        else:\n",
    "            area_label_freq[label] = 1\n",
    "\n",
    "# sort the area labels by frequency\n",
    "sorted_area_label_freq = {k: v for k, v in sorted(area_label_freq.items(), key=lambda item: item[1], reverse=True)}\n",
    "\n",
    "# print the top 10 area labels\n",
    "for i, (label, freq) in enumerate(sorted_area_label_freq.items()):\n",
    "    print(f\"{label}: {freq}\")"
   ]
  },
  {
   "cell_type": "code",
   "execution_count": null,
   "metadata": {},
   "outputs": [],
   "source": []
  }
 ],
 "metadata": {
  "kernelspec": {
   "display_name": "Python 3",
   "language": "python",
   "name": "python3"
  },
  "language_info": {
   "codemirror_mode": {
    "name": "ipython",
    "version": 3
   },
   "file_extension": ".py",
   "mimetype": "text/x-python",
   "name": "python",
   "nbconvert_exporter": "python",
   "pygments_lexer": "ipython3",
   "version": "3.12.4"
  }
 },
 "nbformat": 4,
 "nbformat_minor": 2
}
