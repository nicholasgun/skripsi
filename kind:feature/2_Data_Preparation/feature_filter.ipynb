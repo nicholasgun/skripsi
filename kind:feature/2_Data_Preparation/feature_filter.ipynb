{
 "cells": [
  {
   "cell_type": "code",
   "execution_count": 1,
   "metadata": {},
   "outputs": [],
   "source": [
    "import pandas as pd"
   ]
  },
  {
   "cell_type": "code",
   "execution_count": null,
   "metadata": {},
   "outputs": [
    {
     "data": {
      "text/html": [
       "<div>\n",
       "<style scoped>\n",
       "    .dataframe tbody tr th:only-of-type {\n",
       "        vertical-align: middle;\n",
       "    }\n",
       "\n",
       "    .dataframe tbody tr th {\n",
       "        vertical-align: top;\n",
       "    }\n",
       "\n",
       "    .dataframe thead th {\n",
       "        text-align: right;\n",
       "    }\n",
       "</style>\n",
       "<table border=\"1\" class=\"dataframe\">\n",
       "  <thead>\n",
       "    <tr style=\"text-align: right;\">\n",
       "      <th></th>\n",
       "      <th>all_text</th>\n",
       "      <th>labels</th>\n",
       "    </tr>\n",
       "  </thead>\n",
       "  <tbody>\n",
       "    <tr>\n",
       "      <th>0</th>\n",
       "      <td>kubelet flag precedence order vs file configma...</td>\n",
       "      <td>[area/kubelet, area/kubelet-api]</td>\n",
       "    </tr>\n",
       "    <tr>\n",
       "      <th>1</th>\n",
       "      <td>individual control preflight check time user k...</td>\n",
       "      <td>[area/kubeadm]</td>\n",
       "    </tr>\n",
       "    <tr>\n",
       "      <th>2</th>\n",
       "      <td>seccomp alpha feature feature gate 55983</td>\n",
       "      <td>[area/kubelet, area/kubelet-api]</td>\n",
       "    </tr>\n",
       "    <tr>\n",
       "      <th>3</th>\n",
       "      <td>use componentconfig kube proxy important featu...</td>\n",
       "      <td>[area/ipv6]</td>\n",
       "    </tr>\n",
       "    <tr>\n",
       "      <th>4</th>\n",
       "      <td>add kubeadm config set kube proxy bindaddress ...</td>\n",
       "      <td>[area/ipv6]</td>\n",
       "    </tr>\n",
       "    <tr>\n",
       "      <th>...</th>\n",
       "      <td>...</td>\n",
       "      <td>...</td>\n",
       "    </tr>\n",
       "    <tr>\n",
       "      <th>857</th>\n",
       "      <td>trace exemplar kube apiserver metric add exemp...</td>\n",
       "      <td>[area/kubelet, area/kube-proxy, area/apiserver...</td>\n",
       "    </tr>\n",
       "    <tr>\n",
       "      <th>858</th>\n",
       "      <td>scheduler_perf easy use external currently par...</td>\n",
       "      <td>[area/test]</td>\n",
       "    </tr>\n",
       "    <tr>\n",
       "      <th>859</th>\n",
       "      <td>pass client look new field 49677 subjectaccess...</td>\n",
       "      <td>[area/test, area/apiserver, area/cloudprovider]</td>\n",
       "    </tr>\n",
       "    <tr>\n",
       "      <th>860</th>\n",
       "      <td>kubelet respect container log max size time he...</td>\n",
       "      <td>[area/test, area/kubelet, area/code-generation]</td>\n",
       "    </tr>\n",
       "    <tr>\n",
       "      <th>861</th>\n",
       "      <td>allow change pod log directory kubelet current...</td>\n",
       "      <td>[area/test, area/kubelet, area/code-generation]</td>\n",
       "    </tr>\n",
       "  </tbody>\n",
       "</table>\n",
       "<p>862 rows × 2 columns</p>\n",
       "</div>"
      ],
      "text/plain": [
       "                                              all_text  \\\n",
       "0    kubelet flag precedence order vs file configma...   \n",
       "1    individual control preflight check time user k...   \n",
       "2             seccomp alpha feature feature gate 55983   \n",
       "3    use componentconfig kube proxy important featu...   \n",
       "4    add kubeadm config set kube proxy bindaddress ...   \n",
       "..                                                 ...   \n",
       "857  trace exemplar kube apiserver metric add exemp...   \n",
       "858  scheduler_perf easy use external currently par...   \n",
       "859  pass client look new field 49677 subjectaccess...   \n",
       "860  kubelet respect container log max size time he...   \n",
       "861  allow change pod log directory kubelet current...   \n",
       "\n",
       "                                                labels  \n",
       "0                     [area/kubelet, area/kubelet-api]  \n",
       "1                                       [area/kubeadm]  \n",
       "2                     [area/kubelet, area/kubelet-api]  \n",
       "3                                          [area/ipv6]  \n",
       "4                                          [area/ipv6]  \n",
       "..                                                 ...  \n",
       "857  [area/kubelet, area/kube-proxy, area/apiserver...  \n",
       "858                                        [area/test]  \n",
       "859    [area/test, area/apiserver, area/cloudprovider]  \n",
       "860    [area/test, area/kubelet, area/code-generation]  \n",
       "861    [area/test, area/kubelet, area/code-generation]  \n",
       "\n",
       "[862 rows x 2 columns]"
      ]
     },
     "execution_count": 2,
     "metadata": {},
     "output_type": "execute_result"
    }
   ],
   "source": [
    "data = pd.read_json('cleaned_data.json')"
   ]
  },
  {
   "cell_type": "code",
   "execution_count": 4,
   "metadata": {},
   "outputs": [
    {
     "name": "stdout",
     "output_type": "stream",
     "text": [
      "area/test: 454\n",
      "area/kubelet: 172\n",
      "area/apiserver: 169\n",
      "area/kubectl: 154\n",
      "area/e2e-test-framework: 97\n",
      "area/kubeadm: 92\n",
      "area/code-generation: 80\n",
      "area/cloudprovider: 72\n",
      "area/dependency: 68\n",
      "area/release-eng: 30\n",
      "area/conformance: 26\n",
      "area/provider/gcp: 19\n",
      "area/kube-proxy: 17\n",
      "area/provider/azure: 14\n",
      "area/ipvs: 11\n",
      "area/network-policy: 7\n",
      "area/kubelet-api: 5\n",
      "area/custom-resources: 5\n",
      "area/admission-control: 5\n",
      "area/stable-metrics: 5\n",
      "area/ipv6: 4\n",
      "area/provider/openstack: 3\n",
      "area/logging: 3\n",
      "area/hw-accelerators: 2\n",
      "area/client-libraries: 2\n",
      "area/code-organization: 2\n",
      "area/etcd: 1\n",
      "area/security: 1\n",
      "area/test-infra: 1\n",
      "area/batch: 1\n",
      "area/workload-api/job: 1\n"
     ]
    }
   ],
   "source": [
    "# count the frequency of every label name\n",
    "from collections import Counter\n",
    "\n",
    "labels = Counter([label for labels in data['labels'] for label in labels])\n",
    "\n",
    "for label, count in labels.most_common():\n",
    "    print(f'{label}: {count}')"
   ]
  },
  {
   "cell_type": "code",
   "execution_count": 7,
   "metadata": {},
   "outputs": [],
   "source": [
    "label_to_remove = ['area/test', 'area/e2e-test-framework', 'area/code-generation', 'area/code-organization','area/dependency','area/hw-accelerators','area/client-libraries','area/logging']\n",
    "data['labels'] = data['labels'].apply(lambda labels: [label for label in labels if label not in label_to_remove])"
   ]
  },
  {
   "cell_type": "code",
   "execution_count": 8,
   "metadata": {},
   "outputs": [
    {
     "name": "stdout",
     "output_type": "stream",
     "text": [
      "area/kubelet: 172\n",
      "area/apiserver: 169\n",
      "area/kubectl: 154\n",
      "area/kubeadm: 92\n",
      "area/cloudprovider: 72\n",
      "area/release-eng: 30\n",
      "area/conformance: 26\n",
      "area/provider/gcp: 19\n",
      "area/kube-proxy: 17\n",
      "area/provider/azure: 14\n",
      "area/ipvs: 11\n",
      "area/network-policy: 7\n",
      "area/kubelet-api: 5\n",
      "area/custom-resources: 5\n",
      "area/admission-control: 5\n",
      "area/stable-metrics: 5\n",
      "area/ipv6: 4\n",
      "area/provider/openstack: 3\n",
      "area/etcd: 1\n",
      "area/security: 1\n",
      "area/test-infra: 1\n",
      "area/batch: 1\n",
      "area/workload-api/job: 1\n"
     ]
    }
   ],
   "source": [
    "# count the frequency of every label name\n",
    "from collections import Counter\n",
    "\n",
    "labels = Counter([label for labels in data['labels'] for label in labels])\n",
    "\n",
    "for label, count in labels.most_common():\n",
    "    print(f'{label}: {count}')"
   ]
  },
  {
   "cell_type": "code",
   "execution_count": 10,
   "metadata": {},
   "outputs": [],
   "source": [
    "# remove the rows with empty labels\n",
    "data = data[data['labels'].apply(len) > 0]\n"
   ]
  },
  {
   "cell_type": "code",
   "execution_count": 12,
   "metadata": {},
   "outputs": [
    {
     "data": {
      "text/html": [
       "<div>\n",
       "<style scoped>\n",
       "    .dataframe tbody tr th:only-of-type {\n",
       "        vertical-align: middle;\n",
       "    }\n",
       "\n",
       "    .dataframe tbody tr th {\n",
       "        vertical-align: top;\n",
       "    }\n",
       "\n",
       "    .dataframe thead th {\n",
       "        text-align: right;\n",
       "    }\n",
       "</style>\n",
       "<table border=\"1\" class=\"dataframe\">\n",
       "  <thead>\n",
       "    <tr style=\"text-align: right;\">\n",
       "      <th></th>\n",
       "      <th>all_text</th>\n",
       "      <th>labels</th>\n",
       "    </tr>\n",
       "  </thead>\n",
       "  <tbody>\n",
       "    <tr>\n",
       "      <th>0</th>\n",
       "      <td>kubelet flag precedence order vs file configma...</td>\n",
       "      <td>[area/kubelet, area/kubelet-api]</td>\n",
       "    </tr>\n",
       "    <tr>\n",
       "      <th>1</th>\n",
       "      <td>individual control preflight check time user k...</td>\n",
       "      <td>[area/kubeadm]</td>\n",
       "    </tr>\n",
       "    <tr>\n",
       "      <th>2</th>\n",
       "      <td>seccomp alpha feature feature gate 55983</td>\n",
       "      <td>[area/kubelet, area/kubelet-api]</td>\n",
       "    </tr>\n",
       "    <tr>\n",
       "      <th>3</th>\n",
       "      <td>use componentconfig kube proxy important featu...</td>\n",
       "      <td>[area/ipv6]</td>\n",
       "    </tr>\n",
       "    <tr>\n",
       "      <th>4</th>\n",
       "      <td>add kubeadm config set kube proxy bindaddress ...</td>\n",
       "      <td>[area/ipv6]</td>\n",
       "    </tr>\n",
       "  </tbody>\n",
       "</table>\n",
       "</div>"
      ],
      "text/plain": [
       "                                            all_text  \\\n",
       "0  kubelet flag precedence order vs file configma...   \n",
       "1  individual control preflight check time user k...   \n",
       "2           seccomp alpha feature feature gate 55983   \n",
       "3  use componentconfig kube proxy important featu...   \n",
       "4  add kubeadm config set kube proxy bindaddress ...   \n",
       "\n",
       "                             labels  \n",
       "0  [area/kubelet, area/kubelet-api]  \n",
       "1                    [area/kubeadm]  \n",
       "2  [area/kubelet, area/kubelet-api]  \n",
       "3                       [area/ipv6]  \n",
       "4                       [area/ipv6]  "
      ]
     },
     "execution_count": 12,
     "metadata": {},
     "output_type": "execute_result"
    }
   ],
   "source": [
    "data.head()"
   ]
  },
  {
   "cell_type": "code",
   "execution_count": 15,
   "metadata": {},
   "outputs": [
    {
     "name": "stdout",
     "output_type": "stream",
     "text": [
      "area/kubelet: 172\n",
      "area/apiserver: 169\n",
      "area/kubectl: 154\n",
      "area/kubeadm: 92\n",
      "area/cloudprovider: 72\n",
      "area/release-eng: 30\n",
      "area/conformance: 26\n",
      "area/provider/gcp: 19\n",
      "area/kube-proxy: 17\n",
      "area/provider/azure: 14\n",
      "area/ipvs: 11\n",
      "area/network-policy: 7\n",
      "area/kubelet-api: 5\n",
      "area/custom-resources: 5\n",
      "area/admission-control: 5\n",
      "area/stable-metrics: 5\n",
      "area/ipv6: 4\n",
      "area/provider/openstack: 3\n",
      "area/etcd: 1\n",
      "area/security: 1\n",
      "area/test-infra: 1\n",
      "area/batch: 1\n",
      "area/workload-api/job: 1\n"
     ]
    }
   ],
   "source": [
    "# count the frequency of every label name\n",
    "from collections import Counter\n",
    "\n",
    "labels = Counter([label for labels in data['labels'] for label in labels])\n",
    "\n",
    "for label, count in labels.most_common():\n",
    "    print(f'{label}: {count}')"
   ]
  },
  {
   "cell_type": "code",
   "execution_count": 14,
   "metadata": {},
   "outputs": [],
   "source": [
    "# export the cleaned data to a new json file\n",
    "data.to_json('cleaned_labels_data.json')"
   ]
  }
 ],
 "metadata": {
  "kernelspec": {
   "display_name": "Python 3",
   "language": "python",
   "name": "python3"
  },
  "language_info": {
   "codemirror_mode": {
    "name": "ipython",
    "version": 3
   },
   "file_extension": ".py",
   "mimetype": "text/x-python",
   "name": "python",
   "nbconvert_exporter": "python",
   "pygments_lexer": "ipython3",
   "version": "3.12.4"
  }
 },
 "nbformat": 4,
 "nbformat_minor": 2
}
