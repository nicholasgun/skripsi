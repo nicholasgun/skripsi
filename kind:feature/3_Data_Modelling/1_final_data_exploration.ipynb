{
 "cells": [
  {
   "cell_type": "code",
   "execution_count": 1,
   "metadata": {},
   "outputs": [],
   "source": [
    "import pandas as pd\n",
    "from transformers import RobertaTokenizer"
   ]
  },
  {
   "cell_type": "code",
   "execution_count": 3,
   "metadata": {},
   "outputs": [],
   "source": [
    "data = pd.read_json('/Users/nicholasgunawan/Library/CloudStorage/OneDrive-peter.petra.ac.id/KULIAH/SKRIPSI/code/Data/Preprocessed Data/kind:feature/cleaned_data_with_changed_files.json')"
   ]
  },
  {
   "cell_type": "code",
   "execution_count": 8,
   "metadata": {},
   "outputs": [
    {
     "name": "stdout",
     "output_type": "stream",
     "text": [
      "labels\n",
      "area/test                  454\n",
      "area/apiserver             177\n",
      "area/kubelet               172\n",
      "area/kubectl               154\n",
      "area/e2e-test-framework     97\n",
      "area/kubeadm                92\n",
      "area/code-generation        80\n",
      "area/cloudprovider          72\n",
      "area/dependency             68\n",
      "area/release-eng            30\n",
      "area/conformance            26\n",
      "area/provider/gcp           19\n",
      "area/kube-proxy             17\n",
      "area/provider/azure         14\n",
      "area/ipvs                   11\n",
      "area/network-policy          7\n",
      "area/admission-control       5\n",
      "area/stable-metrics          5\n",
      "area/custom-resources        5\n",
      "area/kubelet-api             5\n",
      "area/ipv6                    4\n",
      "area/provider/openstack      3\n",
      "area/logging                 3\n",
      "area/client-libraries        2\n",
      "area/hw-accelerators         2\n",
      "area/code-organization       2\n",
      "area/workload-api/job        1\n",
      "area/etcd                    1\n",
      "area/batch                   1\n",
      "area/test-infra              1\n",
      "area/security                1\n",
      "Name: count, dtype: int64\n"
     ]
    }
   ],
   "source": [
    "# explode the labels first to separate multi-labels into individual rows\n",
    "data_exploded = data.explode('labels')\n",
    "\n",
    "# get labels distribution (count of individual labels)\n",
    "labels = data_exploded['labels'].value_counts()\n",
    "print(labels)"
   ]
  },
  {
   "cell_type": "code",
   "execution_count": 4,
   "metadata": {},
   "outputs": [],
   "source": [
    "# get count of labels per row\n",
    "data['label_count'] = data['labels'].apply(lambda x: len(x))"
   ]
  },
  {
   "cell_type": "code",
   "execution_count": 5,
   "metadata": {},
   "outputs": [
    {
     "name": "stdout",
     "output_type": "stream",
     "text": [
      "Count of labels per row:\n",
      "label_count\n",
      "1     508\n",
      "2     233\n",
      "3      61\n",
      "4      33\n",
      "5      12\n",
      "6       9\n",
      "7       8\n",
      "8       1\n",
      "10      1\n",
      "11      1\n",
      "13      1\n",
      "14      1\n",
      "16      1\n",
      "Name: count, dtype: int64\n"
     ]
    }
   ],
   "source": [
    "# count of rows with count of labels\n",
    "print('Count of labels per row:')\n",
    "print(data['label_count'].value_counts().sort_index())"
   ]
  },
  {
   "cell_type": "code",
   "execution_count": 17,
   "metadata": {},
   "outputs": [],
   "source": [
    "# get the length of all_text\n",
    "data['all_text_length'] = data['all_text'].apply(lambda x: len(x))"
   ]
  },
  {
   "cell_type": "code",
   "execution_count": 18,
   "metadata": {},
   "outputs": [
    {
     "name": "stdout",
     "output_type": "stream",
     "text": [
      "\n",
      "Summary statistics of all_text_length:\n",
      "count      870.000000\n",
      "mean      2893.602299\n",
      "std       2515.321278\n",
      "min        113.000000\n",
      "25%       1143.750000\n",
      "50%       2134.500000\n",
      "75%       3979.000000\n",
      "max      32462.000000\n",
      "Name: all_text_length, dtype: float64\n"
     ]
    }
   ],
   "source": [
    "# get the summary statistics of all_text_length\n",
    "print('\\nSummary statistics of all_text_length:')\n",
    "print(data['all_text_length'].describe())"
   ]
  },
  {
   "cell_type": "code",
   "execution_count": 25,
   "metadata": {},
   "outputs": [
    {
     "name": "stderr",
     "output_type": "stream",
     "text": [
      "Token indices sequence length is longer than the specified maximum sequence length for this model (762 > 512). Running this sequence through the model will result in indexing errors\n"
     ]
    }
   ],
   "source": [
    "# tokenize the all_text using codeBERT tokenizer\n",
    "tokenizer = RobertaTokenizer.from_pretrained('microsoft/codebert-base')\n",
    "data['all_text_tokenized'] = data['all_text'].apply(lambda x: tokenizer(x)['input_ids'])"
   ]
  },
  {
   "cell_type": "code",
   "execution_count": 26,
   "metadata": {},
   "outputs": [],
   "source": [
    "data[\"all_text_tokenized_length\"] = data[\"all_text_tokenized\"].apply(lambda x: len(x))"
   ]
  },
  {
   "cell_type": "code",
   "execution_count": 27,
   "metadata": {},
   "outputs": [
    {
     "name": "stdout",
     "output_type": "stream",
     "text": [
      "\n",
      "Summary statistics of all_text_tokens:\n",
      "count      870.000000\n",
      "mean       656.320690\n",
      "std        610.201104\n",
      "min         31.000000\n",
      "25%        279.000000\n",
      "50%        532.500000\n",
      "75%        903.750000\n",
      "max      11437.000000\n",
      "Name: all_text_tokenized_length, dtype: float64\n"
     ]
    }
   ],
   "source": [
    "# get the summary statistics of all_text_tokens\n",
    "print('\\nSummary statistics of all_text_tokens:')\n",
    "print(data['all_text_tokenized_length'].describe())"
   ]
  },
  {
   "cell_type": "code",
   "execution_count": 28,
   "metadata": {},
   "outputs": [],
   "source": [
    "# explode the labels column\n",
    "data = data.explode('labels')"
   ]
  },
  {
   "cell_type": "code",
   "execution_count": null,
   "metadata": {},
   "outputs": [],
   "source": []
  }
 ],
 "metadata": {
  "kernelspec": {
   "display_name": "Python 3",
   "language": "python",
   "name": "python3"
  },
  "language_info": {
   "codemirror_mode": {
    "name": "ipython",
    "version": 3
   },
   "file_extension": ".py",
   "mimetype": "text/x-python",
   "name": "python",
   "nbconvert_exporter": "python",
   "pygments_lexer": "ipython3",
   "version": "3.12.4"
  }
 },
 "nbformat": 4,
 "nbformat_minor": 2
}
