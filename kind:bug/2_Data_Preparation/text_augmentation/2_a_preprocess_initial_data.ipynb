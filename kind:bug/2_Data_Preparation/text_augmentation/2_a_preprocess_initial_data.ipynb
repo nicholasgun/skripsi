{
 "cells": [
  {
   "cell_type": "code",
   "execution_count": 18,
   "metadata": {},
   "outputs": [],
   "source": [
    "import pandas as pd\n",
    "from sklearn.feature_extraction.text import CountVectorizer\n",
    "from collections import Counter\n",
    "import re"
   ]
  },
  {
   "cell_type": "code",
   "execution_count": 36,
   "metadata": {},
   "outputs": [],
   "source": [
    "data = pd.read_json('../../../Data/Preprocessed Data/kind:bug/merged_data_with_comments.json')\n",
    "data2 = pd.read_json('../../../Data/Preprocessed Data/kind:bug/merged_data_with_comments.json')"
   ]
  },
  {
   "cell_type": "code",
   "execution_count": 27,
   "metadata": {},
   "outputs": [
    {
     "data": {
      "text/html": [
       "<div>\n",
       "<style scoped>\n",
       "    .dataframe tbody tr th:only-of-type {\n",
       "        vertical-align: middle;\n",
       "    }\n",
       "\n",
       "    .dataframe tbody tr th {\n",
       "        vertical-align: top;\n",
       "    }\n",
       "\n",
       "    .dataframe thead th {\n",
       "        text-align: right;\n",
       "    }\n",
       "</style>\n",
       "<table border=\"1\" class=\"dataframe\">\n",
       "  <thead>\n",
       "    <tr style=\"text-align: right;\">\n",
       "      <th></th>\n",
       "      <th>comments_url</th>\n",
       "      <th>id</th>\n",
       "      <th>title</th>\n",
       "      <th>body</th>\n",
       "      <th>issue_url</th>\n",
       "      <th>pr_url</th>\n",
       "      <th>labels</th>\n",
       "      <th>pr_number</th>\n",
       "      <th>filename</th>\n",
       "      <th>status</th>\n",
       "      <th>additions</th>\n",
       "      <th>deletions</th>\n",
       "      <th>changes</th>\n",
       "      <th>all_comments</th>\n",
       "    </tr>\n",
       "  </thead>\n",
       "  <tbody>\n",
       "    <tr>\n",
       "      <th>0</th>\n",
       "      <td>https://api.github.com/repos/kubernetes/kubern...</td>\n",
       "      <td>2639668210</td>\n",
       "      <td>kubelet crash: fatal error: concurrent map writes</td>\n",
       "      <td>### What happened?\\n\\nWhile looking into three...</td>\n",
       "      <td>https://github.com/kubernetes/kubernetes/issue...</td>\n",
       "      <td>https://github.com/kubernetes/kubernetes/pull/...</td>\n",
       "      <td>[area/kubelet]</td>\n",
       "      <td>128657</td>\n",
       "      <td>['pkg/kubelet/cm/container_manager_linux.go', ...</td>\n",
       "      <td>['modified', 'modified', 'modified', 'modified']</td>\n",
       "      <td>[3, 4, 18, 75]</td>\n",
       "      <td>[3, 3, 6, 0]</td>\n",
       "      <td>[6, 7, 24, 75]</td>\n",
       "      <td>/sig node Thought to search for similar errors...</td>\n",
       "    </tr>\n",
       "    <tr>\n",
       "      <th>1</th>\n",
       "      <td>https://api.github.com/repos/kubernetes/kubern...</td>\n",
       "      <td>2617512099</td>\n",
       "      <td>[FG:InPlacePodVerticalScaling] failed to verif...</td>\n",
       "      <td>### What happened?\\n\\nOne line bug description...</td>\n",
       "      <td>https://github.com/kubernetes/kubernetes/issue...</td>\n",
       "      <td>https://github.com/kubernetes/kubernetes/pull/...</td>\n",
       "      <td>[area/kubelet]</td>\n",
       "      <td>126620</td>\n",
       "      <td>['pkg/kubelet/status/state/checkpoint.go', 'pk...</td>\n",
       "      <td>['modified', 'modified', 'added']</td>\n",
       "      <td>[42, 23, 166]</td>\n",
       "      <td>[26, 17, 0]</td>\n",
       "      <td>[68, 40, 166]</td>\n",
       "      <td>This issue is currently awaiting triage.\\n\\nIf...</td>\n",
       "    </tr>\n",
       "    <tr>\n",
       "      <th>2</th>\n",
       "      <td>https://api.github.com/repos/kubernetes/kubern...</td>\n",
       "      <td>2604613192</td>\n",
       "      <td>Restore build-tag flag for code-generator</td>\n",
       "      <td>### What happened?\\n\\nThe `build-tag` flag is ...</td>\n",
       "      <td>https://github.com/kubernetes/kubernetes/issue...</td>\n",
       "      <td>https://github.com/kubernetes/kubernetes/pull/...</td>\n",
       "      <td>[area/code-generation]</td>\n",
       "      <td>128259</td>\n",
       "      <td>['staging/src/k8s.io/code-generator/cmd/conver...</td>\n",
       "      <td>['modified', 'modified', 'modified', 'modified...</td>\n",
       "      <td>[12, 1, 1, 12, 1, 1]</td>\n",
       "      <td>[2, 1, 1, 1, 1, 1]</td>\n",
       "      <td>[14, 2, 2, 13, 2, 2]</td>\n",
       "      <td>@p0lyn0mial FYI /sig api-machinery /triage acc...</td>\n",
       "    </tr>\n",
       "    <tr>\n",
       "      <th>3</th>\n",
       "      <td>https://api.github.com/repos/kubernetes/kubern...</td>\n",
       "      <td>2596132738</td>\n",
       "      <td>[Failing Tests] ci-crio-cgroupv1-node-e2e-conf...</td>\n",
       "      <td>### Which jobs are failing?\\n* master-blocking...</td>\n",
       "      <td>https://github.com/kubernetes/kubernetes/issue...</td>\n",
       "      <td>https://github.com/kubernetes/kubernetes/pull/...</td>\n",
       "      <td>[area/kubeadm, area/dependency]</td>\n",
       "      <td>128175</td>\n",
       "      <td>['go.mod', 'go.sum', 'hack/unwanted-dependenci...</td>\n",
       "      <td>['modified', 'modified', 'modified', 'modified...</td>\n",
       "      <td>[1, 3, 1, 21, 9, 9, 4, 0, 10, 2, 2, 5, 8, 1]</td>\n",
       "      <td>[1, 2, 0, 98, 8, 7, 6, 62, 11, 1, 4, 8, 11, 1]</td>\n",
       "      <td>[2, 5, 1, 119, 17, 16, 10, 62, 21, 3, 6, 13, 1...</td>\n",
       "      <td>@drewhagen: The provided milestone is not vali...</td>\n",
       "    </tr>\n",
       "    <tr>\n",
       "      <th>4</th>\n",
       "      <td>https://api.github.com/repos/kubernetes/kubern...</td>\n",
       "      <td>2591358936</td>\n",
       "      <td>Crash on kube manager's service-lb-controller ...</td>\n",
       "      <td>### What happened?\\n\\nIf kube manager is start...</td>\n",
       "      <td>https://github.com/kubernetes/kubernetes/issue...</td>\n",
       "      <td>https://github.com/kubernetes/kubernetes/pull/...</td>\n",
       "      <td>[area/cloudprovider]</td>\n",
       "      <td>128182</td>\n",
       "      <td>['cmd/kube-controller-manager/app/controllerma...</td>\n",
       "      <td>['modified', 'modified', 'modified']</td>\n",
       "      <td>[26, 12, 5]</td>\n",
       "      <td>[0, 1, 4]</td>\n",
       "      <td>[26, 13, 9]</td>\n",
       "      <td>This issue is currently awaiting triage.\\n\\nIf...</td>\n",
       "    </tr>\n",
       "  </tbody>\n",
       "</table>\n",
       "</div>"
      ],
      "text/plain": [
       "                                        comments_url          id  \\\n",
       "0  https://api.github.com/repos/kubernetes/kubern...  2639668210   \n",
       "1  https://api.github.com/repos/kubernetes/kubern...  2617512099   \n",
       "2  https://api.github.com/repos/kubernetes/kubern...  2604613192   \n",
       "3  https://api.github.com/repos/kubernetes/kubern...  2596132738   \n",
       "4  https://api.github.com/repos/kubernetes/kubern...  2591358936   \n",
       "\n",
       "                                               title  \\\n",
       "0  kubelet crash: fatal error: concurrent map writes   \n",
       "1  [FG:InPlacePodVerticalScaling] failed to verif...   \n",
       "2          Restore build-tag flag for code-generator   \n",
       "3  [Failing Tests] ci-crio-cgroupv1-node-e2e-conf...   \n",
       "4  Crash on kube manager's service-lb-controller ...   \n",
       "\n",
       "                                                body  \\\n",
       "0  ### What happened?\\n\\nWhile looking into three...   \n",
       "1  ### What happened?\\n\\nOne line bug description...   \n",
       "2  ### What happened?\\n\\nThe `build-tag` flag is ...   \n",
       "3  ### Which jobs are failing?\\n* master-blocking...   \n",
       "4  ### What happened?\\n\\nIf kube manager is start...   \n",
       "\n",
       "                                           issue_url  \\\n",
       "0  https://github.com/kubernetes/kubernetes/issue...   \n",
       "1  https://github.com/kubernetes/kubernetes/issue...   \n",
       "2  https://github.com/kubernetes/kubernetes/issue...   \n",
       "3  https://github.com/kubernetes/kubernetes/issue...   \n",
       "4  https://github.com/kubernetes/kubernetes/issue...   \n",
       "\n",
       "                                              pr_url  \\\n",
       "0  https://github.com/kubernetes/kubernetes/pull/...   \n",
       "1  https://github.com/kubernetes/kubernetes/pull/...   \n",
       "2  https://github.com/kubernetes/kubernetes/pull/...   \n",
       "3  https://github.com/kubernetes/kubernetes/pull/...   \n",
       "4  https://github.com/kubernetes/kubernetes/pull/...   \n",
       "\n",
       "                            labels  pr_number  \\\n",
       "0                   [area/kubelet]     128657   \n",
       "1                   [area/kubelet]     126620   \n",
       "2           [area/code-generation]     128259   \n",
       "3  [area/kubeadm, area/dependency]     128175   \n",
       "4             [area/cloudprovider]     128182   \n",
       "\n",
       "                                            filename  \\\n",
       "0  ['pkg/kubelet/cm/container_manager_linux.go', ...   \n",
       "1  ['pkg/kubelet/status/state/checkpoint.go', 'pk...   \n",
       "2  ['staging/src/k8s.io/code-generator/cmd/conver...   \n",
       "3  ['go.mod', 'go.sum', 'hack/unwanted-dependenci...   \n",
       "4  ['cmd/kube-controller-manager/app/controllerma...   \n",
       "\n",
       "                                              status  \\\n",
       "0   ['modified', 'modified', 'modified', 'modified']   \n",
       "1                  ['modified', 'modified', 'added']   \n",
       "2  ['modified', 'modified', 'modified', 'modified...   \n",
       "3  ['modified', 'modified', 'modified', 'modified...   \n",
       "4               ['modified', 'modified', 'modified']   \n",
       "\n",
       "                                      additions  \\\n",
       "0                                [3, 4, 18, 75]   \n",
       "1                                 [42, 23, 166]   \n",
       "2                          [12, 1, 1, 12, 1, 1]   \n",
       "3  [1, 3, 1, 21, 9, 9, 4, 0, 10, 2, 2, 5, 8, 1]   \n",
       "4                                   [26, 12, 5]   \n",
       "\n",
       "                                        deletions  \\\n",
       "0                                    [3, 3, 6, 0]   \n",
       "1                                     [26, 17, 0]   \n",
       "2                              [2, 1, 1, 1, 1, 1]   \n",
       "3  [1, 2, 0, 98, 8, 7, 6, 62, 11, 1, 4, 8, 11, 1]   \n",
       "4                                       [0, 1, 4]   \n",
       "\n",
       "                                             changes  \\\n",
       "0                                     [6, 7, 24, 75]   \n",
       "1                                      [68, 40, 166]   \n",
       "2                               [14, 2, 2, 13, 2, 2]   \n",
       "3  [2, 5, 1, 119, 17, 16, 10, 62, 21, 3, 6, 13, 1...   \n",
       "4                                        [26, 13, 9]   \n",
       "\n",
       "                                        all_comments  \n",
       "0  /sig node Thought to search for similar errors...  \n",
       "1  This issue is currently awaiting triage.\\n\\nIf...  \n",
       "2  @p0lyn0mial FYI /sig api-machinery /triage acc...  \n",
       "3  @drewhagen: The provided milestone is not vali...  \n",
       "4  This issue is currently awaiting triage.\\n\\nIf...  "
      ]
     },
     "execution_count": 27,
     "metadata": {},
     "output_type": "execute_result"
    }
   ],
   "source": [
    "data.head()"
   ]
  },
  {
   "cell_type": "code",
   "execution_count": 37,
   "metadata": {},
   "outputs": [
    {
     "data": {
      "text/html": [
       "<div>\n",
       "<style scoped>\n",
       "    .dataframe tbody tr th:only-of-type {\n",
       "        vertical-align: middle;\n",
       "    }\n",
       "\n",
       "    .dataframe tbody tr th {\n",
       "        vertical-align: top;\n",
       "    }\n",
       "\n",
       "    .dataframe thead th {\n",
       "        text-align: right;\n",
       "    }\n",
       "</style>\n",
       "<table border=\"1\" class=\"dataframe\">\n",
       "  <thead>\n",
       "    <tr style=\"text-align: right;\">\n",
       "      <th></th>\n",
       "      <th>comments_url</th>\n",
       "      <th>id</th>\n",
       "      <th>title</th>\n",
       "      <th>body</th>\n",
       "      <th>issue_url</th>\n",
       "      <th>pr_url</th>\n",
       "      <th>labels</th>\n",
       "      <th>pr_number</th>\n",
       "      <th>filename</th>\n",
       "      <th>status</th>\n",
       "      <th>additions</th>\n",
       "      <th>deletions</th>\n",
       "      <th>changes</th>\n",
       "      <th>all_comments</th>\n",
       "    </tr>\n",
       "  </thead>\n",
       "  <tbody>\n",
       "    <tr>\n",
       "      <th>0</th>\n",
       "      <td>https://api.github.com/repos/kubernetes/kubern...</td>\n",
       "      <td>2639668210</td>\n",
       "      <td>kubelet crash: fatal error: concurrent map writes</td>\n",
       "      <td>### What happened?\\n\\nWhile looking into three...</td>\n",
       "      <td>https://github.com/kubernetes/kubernetes/issue...</td>\n",
       "      <td>https://github.com/kubernetes/kubernetes/pull/...</td>\n",
       "      <td>[area/kubelet]</td>\n",
       "      <td>128657</td>\n",
       "      <td>['pkg/kubelet/cm/container_manager_linux.go', ...</td>\n",
       "      <td>['modified', 'modified', 'modified', 'modified']</td>\n",
       "      <td>[3, 4, 18, 75]</td>\n",
       "      <td>[3, 3, 6, 0]</td>\n",
       "      <td>[6, 7, 24, 75]</td>\n",
       "      <td>/sig node Thought to search for similar errors...</td>\n",
       "    </tr>\n",
       "    <tr>\n",
       "      <th>1</th>\n",
       "      <td>https://api.github.com/repos/kubernetes/kubern...</td>\n",
       "      <td>2617512099</td>\n",
       "      <td>[FG:InPlacePodVerticalScaling] failed to verif...</td>\n",
       "      <td>### What happened?\\n\\nOne line bug description...</td>\n",
       "      <td>https://github.com/kubernetes/kubernetes/issue...</td>\n",
       "      <td>https://github.com/kubernetes/kubernetes/pull/...</td>\n",
       "      <td>[area/kubelet]</td>\n",
       "      <td>126620</td>\n",
       "      <td>['pkg/kubelet/status/state/checkpoint.go', 'pk...</td>\n",
       "      <td>['modified', 'modified', 'added']</td>\n",
       "      <td>[42, 23, 166]</td>\n",
       "      <td>[26, 17, 0]</td>\n",
       "      <td>[68, 40, 166]</td>\n",
       "      <td>This issue is currently awaiting triage.\\n\\nIf...</td>\n",
       "    </tr>\n",
       "    <tr>\n",
       "      <th>2</th>\n",
       "      <td>https://api.github.com/repos/kubernetes/kubern...</td>\n",
       "      <td>2604613192</td>\n",
       "      <td>Restore build-tag flag for code-generator</td>\n",
       "      <td>### What happened?\\n\\nThe `build-tag` flag is ...</td>\n",
       "      <td>https://github.com/kubernetes/kubernetes/issue...</td>\n",
       "      <td>https://github.com/kubernetes/kubernetes/pull/...</td>\n",
       "      <td>[area/code-generation]</td>\n",
       "      <td>128259</td>\n",
       "      <td>['staging/src/k8s.io/code-generator/cmd/conver...</td>\n",
       "      <td>['modified', 'modified', 'modified', 'modified...</td>\n",
       "      <td>[12, 1, 1, 12, 1, 1]</td>\n",
       "      <td>[2, 1, 1, 1, 1, 1]</td>\n",
       "      <td>[14, 2, 2, 13, 2, 2]</td>\n",
       "      <td>@p0lyn0mial FYI /sig api-machinery /triage acc...</td>\n",
       "    </tr>\n",
       "    <tr>\n",
       "      <th>3</th>\n",
       "      <td>https://api.github.com/repos/kubernetes/kubern...</td>\n",
       "      <td>2596132738</td>\n",
       "      <td>[Failing Tests] ci-crio-cgroupv1-node-e2e-conf...</td>\n",
       "      <td>### Which jobs are failing?\\n* master-blocking...</td>\n",
       "      <td>https://github.com/kubernetes/kubernetes/issue...</td>\n",
       "      <td>https://github.com/kubernetes/kubernetes/pull/...</td>\n",
       "      <td>[area/kubeadm, area/dependency]</td>\n",
       "      <td>128175</td>\n",
       "      <td>['go.mod', 'go.sum', 'hack/unwanted-dependenci...</td>\n",
       "      <td>['modified', 'modified', 'modified', 'modified...</td>\n",
       "      <td>[1, 3, 1, 21, 9, 9, 4, 0, 10, 2, 2, 5, 8, 1]</td>\n",
       "      <td>[1, 2, 0, 98, 8, 7, 6, 62, 11, 1, 4, 8, 11, 1]</td>\n",
       "      <td>[2, 5, 1, 119, 17, 16, 10, 62, 21, 3, 6, 13, 1...</td>\n",
       "      <td>@drewhagen: The provided milestone is not vali...</td>\n",
       "    </tr>\n",
       "    <tr>\n",
       "      <th>4</th>\n",
       "      <td>https://api.github.com/repos/kubernetes/kubern...</td>\n",
       "      <td>2591358936</td>\n",
       "      <td>Crash on kube manager's service-lb-controller ...</td>\n",
       "      <td>### What happened?\\n\\nIf kube manager is start...</td>\n",
       "      <td>https://github.com/kubernetes/kubernetes/issue...</td>\n",
       "      <td>https://github.com/kubernetes/kubernetes/pull/...</td>\n",
       "      <td>[area/cloudprovider]</td>\n",
       "      <td>128182</td>\n",
       "      <td>['cmd/kube-controller-manager/app/controllerma...</td>\n",
       "      <td>['modified', 'modified', 'modified']</td>\n",
       "      <td>[26, 12, 5]</td>\n",
       "      <td>[0, 1, 4]</td>\n",
       "      <td>[26, 13, 9]</td>\n",
       "      <td>This issue is currently awaiting triage.\\n\\nIf...</td>\n",
       "    </tr>\n",
       "  </tbody>\n",
       "</table>\n",
       "</div>"
      ],
      "text/plain": [
       "                                        comments_url          id  \\\n",
       "0  https://api.github.com/repos/kubernetes/kubern...  2639668210   \n",
       "1  https://api.github.com/repos/kubernetes/kubern...  2617512099   \n",
       "2  https://api.github.com/repos/kubernetes/kubern...  2604613192   \n",
       "3  https://api.github.com/repos/kubernetes/kubern...  2596132738   \n",
       "4  https://api.github.com/repos/kubernetes/kubern...  2591358936   \n",
       "\n",
       "                                               title  \\\n",
       "0  kubelet crash: fatal error: concurrent map writes   \n",
       "1  [FG:InPlacePodVerticalScaling] failed to verif...   \n",
       "2          Restore build-tag flag for code-generator   \n",
       "3  [Failing Tests] ci-crio-cgroupv1-node-e2e-conf...   \n",
       "4  Crash on kube manager's service-lb-controller ...   \n",
       "\n",
       "                                                body  \\\n",
       "0  ### What happened?\\n\\nWhile looking into three...   \n",
       "1  ### What happened?\\n\\nOne line bug description...   \n",
       "2  ### What happened?\\n\\nThe `build-tag` flag is ...   \n",
       "3  ### Which jobs are failing?\\n* master-blocking...   \n",
       "4  ### What happened?\\n\\nIf kube manager is start...   \n",
       "\n",
       "                                           issue_url  \\\n",
       "0  https://github.com/kubernetes/kubernetes/issue...   \n",
       "1  https://github.com/kubernetes/kubernetes/issue...   \n",
       "2  https://github.com/kubernetes/kubernetes/issue...   \n",
       "3  https://github.com/kubernetes/kubernetes/issue...   \n",
       "4  https://github.com/kubernetes/kubernetes/issue...   \n",
       "\n",
       "                                              pr_url  \\\n",
       "0  https://github.com/kubernetes/kubernetes/pull/...   \n",
       "1  https://github.com/kubernetes/kubernetes/pull/...   \n",
       "2  https://github.com/kubernetes/kubernetes/pull/...   \n",
       "3  https://github.com/kubernetes/kubernetes/pull/...   \n",
       "4  https://github.com/kubernetes/kubernetes/pull/...   \n",
       "\n",
       "                            labels  pr_number  \\\n",
       "0                   [area/kubelet]     128657   \n",
       "1                   [area/kubelet]     126620   \n",
       "2           [area/code-generation]     128259   \n",
       "3  [area/kubeadm, area/dependency]     128175   \n",
       "4             [area/cloudprovider]     128182   \n",
       "\n",
       "                                            filename  \\\n",
       "0  ['pkg/kubelet/cm/container_manager_linux.go', ...   \n",
       "1  ['pkg/kubelet/status/state/checkpoint.go', 'pk...   \n",
       "2  ['staging/src/k8s.io/code-generator/cmd/conver...   \n",
       "3  ['go.mod', 'go.sum', 'hack/unwanted-dependenci...   \n",
       "4  ['cmd/kube-controller-manager/app/controllerma...   \n",
       "\n",
       "                                              status  \\\n",
       "0   ['modified', 'modified', 'modified', 'modified']   \n",
       "1                  ['modified', 'modified', 'added']   \n",
       "2  ['modified', 'modified', 'modified', 'modified...   \n",
       "3  ['modified', 'modified', 'modified', 'modified...   \n",
       "4               ['modified', 'modified', 'modified']   \n",
       "\n",
       "                                      additions  \\\n",
       "0                                [3, 4, 18, 75]   \n",
       "1                                 [42, 23, 166]   \n",
       "2                          [12, 1, 1, 12, 1, 1]   \n",
       "3  [1, 3, 1, 21, 9, 9, 4, 0, 10, 2, 2, 5, 8, 1]   \n",
       "4                                   [26, 12, 5]   \n",
       "\n",
       "                                        deletions  \\\n",
       "0                                    [3, 3, 6, 0]   \n",
       "1                                     [26, 17, 0]   \n",
       "2                              [2, 1, 1, 1, 1, 1]   \n",
       "3  [1, 2, 0, 98, 8, 7, 6, 62, 11, 1, 4, 8, 11, 1]   \n",
       "4                                       [0, 1, 4]   \n",
       "\n",
       "                                             changes  \\\n",
       "0                                     [6, 7, 24, 75]   \n",
       "1                                      [68, 40, 166]   \n",
       "2                               [14, 2, 2, 13, 2, 2]   \n",
       "3  [2, 5, 1, 119, 17, 16, 10, 62, 21, 3, 6, 13, 1...   \n",
       "4                                        [26, 13, 9]   \n",
       "\n",
       "                                        all_comments  \n",
       "0  /sig node Thought to search for similar errors...  \n",
       "1  This issue is currently awaiting triage.\\n\\nIf...  \n",
       "2  @p0lyn0mial FYI /sig api-machinery /triage acc...  \n",
       "3  @drewhagen: The provided milestone is not vali...  \n",
       "4  This issue is currently awaiting triage.\\n\\nIf...  "
      ]
     },
     "execution_count": 37,
     "metadata": {},
     "output_type": "execute_result"
    }
   ],
   "source": [
    "data2.head()"
   ]
  },
  {
   "cell_type": "markdown",
   "metadata": {},
   "source": [
    "# Text Preprocessing"
   ]
  },
  {
   "cell_type": "markdown",
   "metadata": {},
   "source": [
    "Merge Title, Description, and Comments"
   ]
  },
  {
   "cell_type": "code",
   "execution_count": 46,
   "metadata": {},
   "outputs": [],
   "source": [
    "# make new column with title, and body all together\n",
    "data['all_text'] = data['title'] + ' ' + data['body'] \n",
    "data2['all_text'] = data2['title'] + ' ' + data2['body']"
   ]
  },
  {
   "cell_type": "markdown",
   "metadata": {},
   "source": [
    "Lowercasing"
   ]
  },
  {
   "cell_type": "code",
   "execution_count": 47,
   "metadata": {},
   "outputs": [],
   "source": [
    "# lowercase everything\n",
    "data['all_text'] = data['all_text'].str.lower()\n",
    "data2['all_text'] = data2['all_text'].str.lower()"
   ]
  },
  {
   "cell_type": "markdown",
   "metadata": {},
   "source": [
    "Line break removal"
   ]
  },
  {
   "cell_type": "code",
   "execution_count": 48,
   "metadata": {},
   "outputs": [],
   "source": [
    "# remove line breaks (\\r, \\n)\n",
    "data['all_text'] = data['all_text'].str.replace('\\r', ' ')\n",
    "data['all_text'] = data['all_text'].str.replace('\\n', ' ')\n",
    "\n",
    "data2['all_text'] = data2['all_text'].str.replace('\\r', ' ')\n",
    "data2['all_text'] = data2['all_text'].str.replace('\\n', ' ')"
   ]
  },
  {
   "cell_type": "markdown",
   "metadata": {},
   "source": [
    "Remove Non-alphanumeric character"
   ]
  },
  {
   "cell_type": "code",
   "execution_count": 49,
   "metadata": {},
   "outputs": [],
   "source": [
    "# remove non-alphanumeric characters such as punctuation, symbols, emojis, etc.\n",
    "data['all_text'] = data['all_text'].str.replace(r'[^a-zA-Z0-9 ]', '')\n",
    "data2['all_text'] = data2['all_text'].str.replace(r'[^a-zA-Z0-9 ]', '')"
   ]
  },
  {
   "cell_type": "markdown",
   "metadata": {},
   "source": [
    "Change the datatype to string"
   ]
  },
  {
   "cell_type": "code",
   "execution_count": 50,
   "metadata": {},
   "outputs": [],
   "source": [
    "# change datatype to string\n",
    "data['all_text'] = data['all_text'].astype(str)\n",
    "data2['all_text'] = data2['all_text'].astype(str)"
   ]
  },
  {
   "cell_type": "code",
   "execution_count": 51,
   "metadata": {},
   "outputs": [
    {
     "name": "stdout",
     "output_type": "stream",
     "text": [
      "0    kubelet crash: fatal error: concurrent map wri...\n",
      "1    [fg:inplacepodverticalscaling] failed to verif...\n",
      "2    restore build-tag flag for code-generator ### ...\n",
      "3    [failing tests] ci-crio-cgroupv1-node-e2e-conf...\n",
      "4    crash on kube manager's service-lb-controller ...\n",
      "Name: all_text, dtype: object\n"
     ]
    }
   ],
   "source": [
    "# print the first 5 rows of the all_text and all_comments\n",
    "print(data['all_text'].head())"
   ]
  },
  {
   "cell_type": "code",
   "execution_count": 52,
   "metadata": {},
   "outputs": [
    {
     "name": "stdout",
     "output_type": "stream",
     "text": [
      "kubelet crash: fatal error: concurrent map writes ### what happened?  while looking into three failing e2e tests in https://prow.k8s.io/view/gs/kubernetes-ci-logs/logs/ci-kubernetes-e2e-gci-gce-alpha-enabled-default/1854326383216431104 (an allalpha job), i found that kubelet had crashed ([logs](https://storage.googleapis.com/kubernetes-ci-logs/logs/ci-kubernetes-e2e-gci-gce-alpha-enabled-default/1854326383216431104/artifacts/bootstrap-e2e-minion-group-h288/kubelet.log)):    ```  nov 07 01:09:07.338827 bootstrap-e2e-minion-group-h288 kubelet[1937]: fatal error: concurrent map writes  nov 07 01:09:07.342609 bootstrap-e2e-minion-group-h288 kubelet[1937]: goroutine 29497 [running]:  nov 07 01:09:07.342609 bootstrap-e2e-minion-group-h288 kubelet[1937]: k8s.io/kubernetes/pkg/kubelet/cm/containermap.containermap.add(...)  nov 07 01:09:07.342609 bootstrap-e2e-minion-group-h288 kubelet[1937]:         k8s.io/kubernetes/pkg/kubelet/cm/containermap/container_map.go:36  nov 07 01:09:07.342609 bootstrap-e2e-minion-group-h288 kubelet[1937]: k8s.io/kubernetes/pkg/kubelet/cm/cpumanager.(*manager).addcontainer(0xc0008a5ad0, 0xc002175688, 0xc002d8a780, {0xc002d21ec0, 0x40})  nov 07 01:09:07.342609 bootstrap-e2e-minion-group-h288 kubelet[1937]:         k8s.io/kubernetes/pkg/kubelet/cm/cpumanager/cpu_manager.go:276 +0x165  nov 07 01:09:07.342609 bootstrap-e2e-minion-group-h288 kubelet[1937]: k8s.io/kubernetes/pkg/kubelet/cm.(*internalcontainerlifecycleimpl).prestartcontainer(0xc000a2a060, 0xc002175688, 0xc002d8a780, {0xc002d21ec0, 0x40})  nov 07 01:09:07.342609 bootstrap-e2e-minion-group-h288 kubelet[1937]:         k8s.io/kubernetes/pkg/kubelet/cm/internal_container_lifecycle.go:42 +0x42  nov 07 01:09:07.342609 bootstrap-e2e-minion-group-h288 kubelet[1937]: k8s.io/kubernetes/pkg/kubelet/kuberuntime.(*kubegenericruntimemanager).startcontainer(0xc0009c4180, {0x334ff38, 0xc001184050}, {0xc0017ab600, 0x40}, 0xc000323420, 0xc0026aad58, 0xc002175688, 0xc002856c60, {0x4de4ae0, ...}, ...)  nov 07 01:09:07.342609 bootstrap-e2e-minion-group-h288 kubelet[1937]:         k8s.io/kubernetes/pkg/kubelet/kuberuntime/kuberuntime_container.go:271 +0xcdb  nov 07 01:09:07.342609 bootstrap-e2e-minion-group-h288 kubelet[1937]: k8s.io/kubernetes/pkg/kubelet/kuberuntime.(*kubegenericruntimemanager).syncpod.func1({0x334ff38, 0xc001184050}, {0x2e91ac3, 0x9}, {0x2e91ac3, 0x9}, 0xc0026aad58)  nov 07 01:09:07.342609 bootstrap-e2e-minion-group-h288 kubelet[1937]:         k8s.io/kubernetes/pkg/kubelet/kuberuntime/kuberuntime_manager.go:1249 +0x8c7  nov 07 01:09:07.344799 bootstrap-e2e-minion-group-h288 kubelet[1937]: k8s.io/kubernetes/pkg/kubelet/kuberuntime.(*kubegenericruntimemanager).syncpod(0xc0009c4180, {0x334ff38, 0xc001184050}, 0xc002175688, 0xc002856c60, {0x4de4ae0, 0x0, 0x0}, 0xc00095f220)  nov 07 01:09:07.344799 bootstrap-e2e-minion-group-h288 kubelet[1937]:         k8s.io/kubernetes/pkg/kubelet/kuberuntime/kuberuntime_manager.go:1318 +0x37d9  nov 07 01:09:07.344799 bootstrap-e2e-minion-group-h288 kubelet[1937]: k8s.io/kubernetes/pkg/kubelet.(*kubelet).syncpod(0xc000431008, {0x334ff00, 0xc001133860}, 0x2, 0xc002175688, 0x0, 0xc002856c60)  nov 07 01:09:07.344799 bootstrap-e2e-minion-group-h288 kubelet[1937]:         k8s.io/kubernetes/pkg/kubelet/kubelet.go:2000 +0x1923  nov 07 01:09:07.344799 bootstrap-e2e-minion-group-h288 kubelet[1937]: k8s.io/kubernetes/pkg/kubelet.(*podworkers).podworkerloop.func1({0x0, {0x2, {0xc1c322abaa0c010a, 0x7267b7d9ca, 0x4dc1f60}, 0xc002175688, 0x0, 0x0, 0x0}}, 0xc000ad6960, ...)  nov 07 01:09:07.344799 bootstrap-e2e-minion-group-h288 kubelet[1937]:         k8s.io/kubernetes/pkg/kubelet/pod_workers.go:1286 +0x1ca  nov 07 01:09:07.344799 bootstrap-e2e-minion-group-h288 kubelet[1937]: k8s.io/kubernetes/pkg/kubelet.(*podworkers).podworkerloop(0xc000ad6960, {0xc000e53bc0, 0x24}, 0xc002574150)  nov 07 01:09:07.344799 bootstrap-e2e-minion-group-h288 kubelet[1937]:         k8s.io/kubernetes/pkg/kubelet/pod_workers.go:1291 +0x49b  nov 07 01:09:07.344799 bootstrap-e2e-minion-group-h288 kubelet[1937]: k8s.io/kubernetes/pkg/kubelet.(*podworkers).updatepod.func1()  nov 07 01:09:07.344799 bootstrap-e2e-minion-group-h288 kubelet[1937]:         k8s.io/kubernetes/pkg/kubelet/pod_workers.go:950 +0x118  nov 07 01:09:07.344799 bootstrap-e2e-minion-group-h288 kubelet[1937]: created by k8s.io/kubernetes/pkg/kubelet.(*podworkers).updatepod in goroutine 250  nov 07 01:09:07.344799 bootstrap-e2e-minion-group-h288 kubelet[1937]:         k8s.io/kubernetes/pkg/kubelet/pod_workers.go:945 +0x20db  ```  ### what did you expect to happen?  no crash.  ### how can we reproduce it (as minimally and precisely as possible)?  don't know, but we have logs from a prow job that encountered it. it's possible that this crash requires a particular alpha feature gate, since this was an allalpha job.  ### anything else we need to know?  _no response_  ### kubernetes version  <details>  ```  v1.32.0-beta.0.205+4c487b00afb20b  ```  </details>  ### cloud provider  <details>  gce  </details>    ### os version  <details>    ```console  # on linux:  $ cat /etc/os-release  # paste output here  $ uname -a  # paste output here    # on windows:  c:\\> wmic os get caption, version, buildnumber, osarchitecture  # paste output here  ```    </details>    ### install tools  <details>    </details>    ### container runtime (cri) and version (if applicable)  <details>    </details>    ### related plugins (cni, csi, ...) and versions (if applicable)  <details>    </details>  \n"
     ]
    }
   ],
   "source": [
    "print(data2['all_text'][0])"
   ]
  },
  {
   "cell_type": "code",
   "execution_count": 53,
   "metadata": {},
   "outputs": [
    {
     "name": "stdout",
     "output_type": "stream",
     "text": [
      "kubelet crash: fatal error: concurrent map writes ### what happened?  while looking into three failing e2e tests in https://prow.k8s.io/view/gs/kubernetes-ci-logs/logs/ci-kubernetes-e2e-gci-gce-alpha-enabled-default/1854326383216431104 (an allalpha job), i found that kubelet had crashed ([logs](https://storage.googleapis.com/kubernetes-ci-logs/logs/ci-kubernetes-e2e-gci-gce-alpha-enabled-default/1854326383216431104/artifacts/bootstrap-e2e-minion-group-h288/kubelet.log)):    ```  nov 07 01:09:07.338827 bootstrap-e2e-minion-group-h288 kubelet[1937]: fatal error: concurrent map writes  nov 07 01:09:07.342609 bootstrap-e2e-minion-group-h288 kubelet[1937]: goroutine 29497 [running]:  nov 07 01:09:07.342609 bootstrap-e2e-minion-group-h288 kubelet[1937]: k8s.io/kubernetes/pkg/kubelet/cm/containermap.containermap.add(...)  nov 07 01:09:07.342609 bootstrap-e2e-minion-group-h288 kubelet[1937]:         k8s.io/kubernetes/pkg/kubelet/cm/containermap/container_map.go:36  nov 07 01:09:07.342609 bootstrap-e2e-minion-group-h288 kubelet[1937]: k8s.io/kubernetes/pkg/kubelet/cm/cpumanager.(*manager).addcontainer(0xc0008a5ad0, 0xc002175688, 0xc002d8a780, {0xc002d21ec0, 0x40})  nov 07 01:09:07.342609 bootstrap-e2e-minion-group-h288 kubelet[1937]:         k8s.io/kubernetes/pkg/kubelet/cm/cpumanager/cpu_manager.go:276 +0x165  nov 07 01:09:07.342609 bootstrap-e2e-minion-group-h288 kubelet[1937]: k8s.io/kubernetes/pkg/kubelet/cm.(*internalcontainerlifecycleimpl).prestartcontainer(0xc000a2a060, 0xc002175688, 0xc002d8a780, {0xc002d21ec0, 0x40})  nov 07 01:09:07.342609 bootstrap-e2e-minion-group-h288 kubelet[1937]:         k8s.io/kubernetes/pkg/kubelet/cm/internal_container_lifecycle.go:42 +0x42  nov 07 01:09:07.342609 bootstrap-e2e-minion-group-h288 kubelet[1937]: k8s.io/kubernetes/pkg/kubelet/kuberuntime.(*kubegenericruntimemanager).startcontainer(0xc0009c4180, {0x334ff38, 0xc001184050}, {0xc0017ab600, 0x40}, 0xc000323420, 0xc0026aad58, 0xc002175688, 0xc002856c60, {0x4de4ae0, ...}, ...)  nov 07 01:09:07.342609 bootstrap-e2e-minion-group-h288 kubelet[1937]:         k8s.io/kubernetes/pkg/kubelet/kuberuntime/kuberuntime_container.go:271 +0xcdb  nov 07 01:09:07.342609 bootstrap-e2e-minion-group-h288 kubelet[1937]: k8s.io/kubernetes/pkg/kubelet/kuberuntime.(*kubegenericruntimemanager).syncpod.func1({0x334ff38, 0xc001184050}, {0x2e91ac3, 0x9}, {0x2e91ac3, 0x9}, 0xc0026aad58)  nov 07 01:09:07.342609 bootstrap-e2e-minion-group-h288 kubelet[1937]:         k8s.io/kubernetes/pkg/kubelet/kuberuntime/kuberuntime_manager.go:1249 +0x8c7  nov 07 01:09:07.344799 bootstrap-e2e-minion-group-h288 kubelet[1937]: k8s.io/kubernetes/pkg/kubelet/kuberuntime.(*kubegenericruntimemanager).syncpod(0xc0009c4180, {0x334ff38, 0xc001184050}, 0xc002175688, 0xc002856c60, {0x4de4ae0, 0x0, 0x0}, 0xc00095f220)  nov 07 01:09:07.344799 bootstrap-e2e-minion-group-h288 kubelet[1937]:         k8s.io/kubernetes/pkg/kubelet/kuberuntime/kuberuntime_manager.go:1318 +0x37d9  nov 07 01:09:07.344799 bootstrap-e2e-minion-group-h288 kubelet[1937]: k8s.io/kubernetes/pkg/kubelet.(*kubelet).syncpod(0xc000431008, {0x334ff00, 0xc001133860}, 0x2, 0xc002175688, 0x0, 0xc002856c60)  nov 07 01:09:07.344799 bootstrap-e2e-minion-group-h288 kubelet[1937]:         k8s.io/kubernetes/pkg/kubelet/kubelet.go:2000 +0x1923  nov 07 01:09:07.344799 bootstrap-e2e-minion-group-h288 kubelet[1937]: k8s.io/kubernetes/pkg/kubelet.(*podworkers).podworkerloop.func1({0x0, {0x2, {0xc1c322abaa0c010a, 0x7267b7d9ca, 0x4dc1f60}, 0xc002175688, 0x0, 0x0, 0x0}}, 0xc000ad6960, ...)  nov 07 01:09:07.344799 bootstrap-e2e-minion-group-h288 kubelet[1937]:         k8s.io/kubernetes/pkg/kubelet/pod_workers.go:1286 +0x1ca  nov 07 01:09:07.344799 bootstrap-e2e-minion-group-h288 kubelet[1937]: k8s.io/kubernetes/pkg/kubelet.(*podworkers).podworkerloop(0xc000ad6960, {0xc000e53bc0, 0x24}, 0xc002574150)  nov 07 01:09:07.344799 bootstrap-e2e-minion-group-h288 kubelet[1937]:         k8s.io/kubernetes/pkg/kubelet/pod_workers.go:1291 +0x49b  nov 07 01:09:07.344799 bootstrap-e2e-minion-group-h288 kubelet[1937]: k8s.io/kubernetes/pkg/kubelet.(*podworkers).updatepod.func1()  nov 07 01:09:07.344799 bootstrap-e2e-minion-group-h288 kubelet[1937]:         k8s.io/kubernetes/pkg/kubelet/pod_workers.go:950 +0x118  nov 07 01:09:07.344799 bootstrap-e2e-minion-group-h288 kubelet[1937]: created by k8s.io/kubernetes/pkg/kubelet.(*podworkers).updatepod in goroutine 250  nov 07 01:09:07.344799 bootstrap-e2e-minion-group-h288 kubelet[1937]:         k8s.io/kubernetes/pkg/kubelet/pod_workers.go:945 +0x20db  ```  ### what did you expect to happen?  no crash.  ### how can we reproduce it (as minimally and precisely as possible)?  don't know, but we have logs from a prow job that encountered it. it's possible that this crash requires a particular alpha feature gate, since this was an allalpha job.  ### anything else we need to know?  _no response_  ### kubernetes version  <details>  ```  v1.32.0-beta.0.205+4c487b00afb20b  ```  </details>  ### cloud provider  <details>  gce  </details>    ### os version  <details>    ```console  # on linux:  $ cat /etc/os-release  # paste output here  $ uname -a  # paste output here    # on windows:  c:\\> wmic os get caption, version, buildnumber, osarchitecture  # paste output here  ```    </details>    ### install tools  <details>    </details>    ### container runtime (cri) and version (if applicable)  <details>    </details>    ### related plugins (cni, csi, ...) and versions (if applicable)  <details>    </details>  \n"
     ]
    }
   ],
   "source": [
    "print(data['all_text'][0])"
   ]
  },
  {
   "cell_type": "code",
   "execution_count": 15,
   "metadata": {},
   "outputs": [
    {
     "name": "stdout",
     "output_type": "stream",
     "text": [
      "Processing with threshold: 0.5\n",
      "  Vocabulary size: 28195\n",
      "  Average words per document: 113.32\n"
     ]
    }
   ],
   "source": [
    "# Remove high frequency words with threshold 0.5\n",
    "threshold = 0.5\n",
    "print(f\"Processing with threshold: {threshold}\")\n",
    "\n",
    "# Create and fit CountVectorizer\n",
    "cv = CountVectorizer(max_df=threshold)\n",
    "cv.fit(data['all_text'])\n",
    "\n",
    "# Get vocabulary from fitted vectorizer\n",
    "vocabulary = cv.vocabulary_\n",
    "\n",
    "# Filter each document to only keep words in the vocabulary\n",
    "filtered_texts = []\n",
    "for text in data['all_text']:\n",
    "    words = text.split()\n",
    "    filtered_words = [word for word in words if word in vocabulary]\n",
    "    filtered_texts.append(' '.join(filtered_words))\n",
    "\n",
    "# Store filtered texts in same column\n",
    "data['all_text'] = filtered_texts\n",
    "\n",
    "# Print statistics\n",
    "print(f\"  Vocabulary size: {len(vocabulary)}\")\n",
    "print(f\"  Average words per document: {sum(len(text.split()) for text in filtered_texts) / len(filtered_texts):.2f}\")\n",
    "\n",
    "# Export vocabulary to file\n",
    "vocab_df = pd.DataFrame(list(vocabulary.items()), columns=['Word', 'Index'])\n",
    "vocab_df = vocab_df.sort_values('Index')\n",
    "vocab_df.to_csv('vocabulary.csv', index=False)"
   ]
  },
  {
   "cell_type": "markdown",
   "metadata": {},
   "source": [
    "## Analyze the label distribution"
   ]
  },
  {
   "cell_type": "markdown",
   "metadata": {},
   "source": [
    "Check the label by length"
   ]
  },
  {
   "cell_type": "code",
   "execution_count": 27,
   "metadata": {},
   "outputs": [
    {
     "name": "stdout",
     "output_type": "stream",
     "text": [
      "Label Length Distribution:\n",
      "Mean: 1.51\n",
      "Min: 1\n",
      "Max: 13\n",
      "\n",
      "Number of issues by label count:\n",
      "1 label(s): 894 issues (71.07%)\n",
      "2 label(s): 251 issues (19.95%)\n",
      "3 label(s): 46 issues (3.66%)\n",
      "4 label(s): 22 issues (1.75%)\n",
      "5 label(s): 23 issues (1.83%)\n",
      "6 label(s): 10 issues (0.79%)\n",
      "7 label(s): 6 issues (0.48%)\n",
      "8 label(s): 1 issues (0.08%)\n",
      "9 label(s): 3 issues (0.24%)\n",
      "13 label(s): 2 issues (0.16%)\n"
     ]
    }
   ],
   "source": [
    "# Check the length (number of labels) for each issue\n",
    "label_lengths = data['labels'].apply(len)\n",
    "\n",
    "# Print label length statistics\n",
    "print(\"Label Length Distribution:\")\n",
    "print(f\"Mean: {label_lengths.mean():.2f}\")\n",
    "print(f\"Min: {label_lengths.min()}\")\n",
    "print(f\"Max: {label_lengths.max()}\")\n",
    "\n",
    "# Get counts of each label length\n",
    "length_counts = Counter(label_lengths)\n",
    "\n",
    "# Print distribution\n",
    "print(\"\\nNumber of issues by label count:\")\n",
    "for length, count in sorted(length_counts.items()):\n",
    "    print(f\"{length} label(s): {count} issues ({count/len(data)*100:.2f}%)\")"
   ]
  },
  {
   "cell_type": "markdown",
   "metadata": {},
   "source": [
    "Filter the label length (max 5)"
   ]
  },
  {
   "cell_type": "code",
   "execution_count": 28,
   "metadata": {},
   "outputs": [
    {
     "name": "stdout",
     "output_type": "stream",
     "text": [
      "Dataset size after filtering: 1236 entries\n",
      "Percentage of original data kept: 98.25%\n"
     ]
    }
   ],
   "source": [
    "# Filter data to only include entries with 5 or fewer labels\n",
    "data = data[data['labels'].apply(len) <= 5]\n",
    "\n",
    "# Print information about the filtered dataset\n",
    "print(f\"Dataset size after filtering: {len(data)} entries\")\n",
    "print(f\"Percentage of original data kept: {len(data)/1258*100:.2f}%\")"
   ]
  },
  {
   "cell_type": "code",
   "execution_count": 29,
   "metadata": {},
   "outputs": [
    {
     "name": "stdout",
     "output_type": "stream",
     "text": [
      "\n",
      "Filtered Label Length Distribution:\n",
      "Mean: 1.41\n",
      "Min: 1\n",
      "Max: 5\n",
      "\n",
      "Number of issues by label count:\n",
      "1 label(s): 894 issues (72.33%)\n",
      "2 label(s): 251 issues (20.31%)\n",
      "3 label(s): 46 issues (3.72%)\n",
      "4 label(s): 22 issues (1.78%)\n",
      "5 label(s): 23 issues (1.86%)\n"
     ]
    }
   ],
   "source": [
    "# Recalculate the label length statistics\n",
    "filtered_label_lengths = data['labels'].apply(len)\n",
    "filtered_length_counts = Counter(filtered_label_lengths)\n",
    "\n",
    "print(\"\\nFiltered Label Length Distribution:\")\n",
    "print(f\"Mean: {filtered_label_lengths.mean():.2f}\")\n",
    "print(f\"Min: {filtered_label_lengths.min()}\")\n",
    "print(f\"Max: {filtered_label_lengths.max()}\")\n",
    "\n",
    "# Print distribution\n",
    "print(\"\\nNumber of issues by label count:\")\n",
    "for length, count in sorted(filtered_length_counts.items()):\n",
    "    print(f\"{length} label(s): {count} issues ({count/len(data)*100:.2f}%)\")"
   ]
  },
  {
   "cell_type": "markdown",
   "metadata": {},
   "source": [
    "Check the label distribution"
   ]
  },
  {
   "cell_type": "code",
   "execution_count": 30,
   "metadata": {},
   "outputs": [
    {
     "name": "stdout",
     "output_type": "stream",
     "text": [
      "Label Distribution Count:\n",
      "area/kubelet: 372\n",
      "area/code-generation: 53\n",
      "area/kubeadm: 47\n",
      "area/dependency: 76\n",
      "area/cloudprovider: 193\n",
      "area/apiserver: 222\n",
      "area/test: 326\n",
      "area/api: 4\n",
      "area/e2e-test-framework: 23\n",
      "area/kubectl: 144\n",
      "area/kube-proxy: 30\n",
      "area/logging: 1\n",
      "area/release-eng: 18\n",
      "area/ipvs: 47\n",
      "area/provider/gcp: 29\n",
      "area/conformance: 16\n",
      "area/batch: 2\n",
      "area/deflake: 3\n",
      "area/provider/azure: 67\n",
      "area/network-policy: 1\n",
      "area/code-organization: 3\n",
      "area/security: 11\n",
      "area/node-lifecycle: 1\n",
      "area/etcd: 5\n",
      "area/custom-resources: 16\n",
      "area/provider/aws: 2\n",
      "area/admission-control: 3\n",
      "area/provider/vmware: 6\n",
      "area/controller-manager: 1\n",
      "area/provider/openstack: 5\n",
      "area/hw-accelerators: 1\n",
      "area/ipv6: 3\n",
      "area/audit: 1\n",
      "area/stateful-apps: 1\n",
      "area/platform/gce: 1\n",
      "area/workload-api/daemonset: 1\n",
      "area/node-e2e: 1\n",
      "area/usability: 1\n"
     ]
    }
   ],
   "source": [
    "# Flatten the list of labels if it's a list of lists\n",
    "flattened_labels = [label for sublist in data['labels'] for label in sublist]\n",
    "\n",
    "# Print labels distribution count\n",
    "label_counts = Counter(flattened_labels)\n",
    "print(\"Label Distribution Count:\")\n",
    "for label, count in label_counts.items():\n",
    "    print(f\"{label}: {count}\")"
   ]
  },
  {
   "cell_type": "markdown",
   "metadata": {},
   "source": [
    "Remove labels that have occurence < 5"
   ]
  },
  {
   "cell_type": "code",
   "execution_count": 31,
   "metadata": {},
   "outputs": [
    {
     "name": "stdout",
     "output_type": "stream",
     "text": [
      "Before filtering: 1737 total label occurrences\n",
      "Removing 18 rare label types with fewer than 5 occurrences:\n",
      "  - area/api: 4 occurrences\n",
      "  - area/logging: 1 occurrences\n",
      "  - area/batch: 2 occurrences\n",
      "  - area/deflake: 3 occurrences\n",
      "  - area/network-policy: 1 occurrences\n",
      "  - area/code-organization: 3 occurrences\n",
      "  - area/node-lifecycle: 1 occurrences\n",
      "  - area/provider/aws: 2 occurrences\n",
      "  - area/admission-control: 3 occurrences\n",
      "  - area/controller-manager: 1 occurrences\n",
      "  - area/hw-accelerators: 1 occurrences\n",
      "  - area/ipv6: 3 occurrences\n",
      "  - area/audit: 1 occurrences\n",
      "  - area/stateful-apps: 1 occurrences\n",
      "  - area/platform/gce: 1 occurrences\n",
      "  - area/workload-api/daemonset: 1 occurrences\n",
      "  - area/node-e2e: 1 occurrences\n",
      "  - area/usability: 1 occurrences\n",
      "\n",
      "After filtering:\n",
      "  - Original dataset size: 1236 issues\n",
      "  - Remaining dataset size: 1221 issues\n",
      "  - Removed 15 issues (1.21%)\n",
      "  - Remaining label occurrences: 1706\n"
     ]
    }
   ],
   "source": [
    "# Get original data size for comparison\n",
    "original_size = len(data)\n",
    "\n",
    "# Filter the labels that have less than 5 occurrences\n",
    "rare_labels = [label for label, count in label_counts.items() if count < 5]\n",
    "common_labels = [label for label, count in label_counts.items() if count >= 5]\n",
    "\n",
    "print(f\"Before filtering: {len(flattened_labels)} total label occurrences\")\n",
    "print(f\"Removing {len(rare_labels)} rare label types with fewer than 5 occurrences:\")\n",
    "for label in rare_labels:\n",
    "    print(f\"  - {label}: {label_counts[label]} occurrences\")\n",
    "\n",
    "# Update data to keep only issues that have at least one common label\n",
    "data['labels'] = data['labels'].apply(lambda x: [label for label in x if label in common_labels])\n",
    "data = data[data['labels'].apply(len) > 0]\n",
    "\n",
    "# Print statistics after filtering\n",
    "remaining_size = len(data)\n",
    "removed_count = original_size - remaining_size\n",
    "removed_percentage = (removed_count / original_size) * 100\n",
    "\n",
    "print(f\"\\nAfter filtering:\")\n",
    "print(f\"  - Original dataset size: {original_size} issues\")\n",
    "print(f\"  - Remaining dataset size: {remaining_size} issues\")\n",
    "print(f\"  - Removed {removed_count} issues ({removed_percentage:.2f}%)\")\n",
    "\n",
    "# Update flattened_labels to reflect the current state\n",
    "flattened_labels = [label for sublist in data['labels'] for label in sublist]\n",
    "print(f\"  - Remaining label occurrences: {len(flattened_labels)}\")"
   ]
  },
  {
   "cell_type": "code",
   "execution_count": 35,
   "metadata": {},
   "outputs": [
    {
     "name": "stdout",
     "output_type": "stream",
     "text": [
      "Label Distribution Count:\n",
      "1. area/kubelet: 372\n",
      "2. area/test: 326\n",
      "3. area/apiserver: 222\n",
      "4. area/cloudprovider: 193\n",
      "5. area/kubectl: 144\n",
      "6. area/dependency: 76\n",
      "7. area/provider/azure: 67\n",
      "8. area/code-generation: 53\n",
      "9. area/kubeadm: 47\n",
      "10. area/ipvs: 47\n",
      "11. area/kube-proxy: 30\n",
      "12. area/provider/gcp: 29\n",
      "13. area/e2e-test-framework: 23\n",
      "14. area/release-eng: 18\n",
      "15. area/conformance: 16\n",
      "16. area/custom-resources: 16\n",
      "17. area/security: 11\n",
      "18. area/provider/vmware: 6\n",
      "19. area/etcd: 5\n",
      "20. area/provider/openstack: 5\n"
     ]
    }
   ],
   "source": [
    "# Print labels distribution count\n",
    "label_counts = Counter(flattened_labels)\n",
    "print(\"Label Distribution Count:\")\n",
    "\n",
    "for i, (label, count) in enumerate(sorted(label_counts.items(), key=lambda x: x[1], reverse=True)):\n",
    "    print(f\"{i+1}. {label}: {count}\")"
   ]
  },
  {
   "cell_type": "code",
   "execution_count": 33,
   "metadata": {},
   "outputs": [
    {
     "name": "stdout",
     "output_type": "stream",
     "text": [
      "Encoding labels...\n",
      "Training samples: 976, Validation samples: 245\n"
     ]
    }
   ],
   "source": [
    "# Set the random seed for reproducibility (same seed used in DeBERTa script)\n",
    "import numpy as np\n",
    "np.random.seed(42)\n",
    "\n",
    "# Prepare for train-test split\n",
    "from sklearn.preprocessing import MultiLabelBinarizer\n",
    "\n",
    "# Encode multi-labels using MultiLabelBinarizer\n",
    "print(\"Encoding labels...\")\n",
    "mlb = MultiLabelBinarizer()\n",
    "labels_encoded = mlb.fit_transform(data['labels'])\n",
    "\n",
    "# Split data into training and validation sets (80% training, 20% validation)\n",
    "split_idx = int(len(data) * 0.8)\n",
    "train_data = data.iloc[:split_idx].reset_index(drop=True)\n",
    "val_data = data.iloc[split_idx:].reset_index(drop=True)\n",
    "train_labels = labels_encoded[:split_idx]\n",
    "val_labels = labels_encoded[split_idx:]\n",
    "\n",
    "print(f\"Training samples: {len(train_data)}, Validation samples: {len(val_data)}\")\n",
    "\n"
   ]
  },
  {
   "cell_type": "code",
   "execution_count": null,
   "metadata": {},
   "outputs": [],
   "source": [
    "# export the train_data and val_data to csv\n",
    "train_data.to_csv('train_data.csv', index=False)\n",
    "val_data.to_csv('val_data.csv', index=False)\n",
    "\n",
    "# # export the train_labels and val_labels to csv\n",
    "# # Convert numpy arrays to DataFrame before exporting to csv\n",
    "# train_labels_df = pd.DataFrame(train_labels)\n",
    "# val_labels_df = pd.DataFrame(val_labels)\n",
    "# train_labels_df.to_csv('train_labels.csv', index=False)\n",
    "# val_labels_df.to_csv('val_labels.csv', index=False)"
   ]
  }
 ],
 "metadata": {
  "kernelspec": {
   "display_name": "Python 3",
   "language": "python",
   "name": "python3"
  },
  "language_info": {
   "codemirror_mode": {
    "name": "ipython",
    "version": 3
   },
   "file_extension": ".py",
   "mimetype": "text/x-python",
   "name": "python",
   "nbconvert_exporter": "python",
   "pygments_lexer": "ipython3",
   "version": "3.12.4"
  }
 },
 "nbformat": 4,
 "nbformat_minor": 2
}
